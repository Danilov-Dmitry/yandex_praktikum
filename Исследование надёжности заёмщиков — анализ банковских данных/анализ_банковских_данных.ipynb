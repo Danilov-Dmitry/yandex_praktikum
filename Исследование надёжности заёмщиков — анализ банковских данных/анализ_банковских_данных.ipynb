{
 "cells": [
  {
   "cell_type": "markdown",
   "metadata": {},
   "source": [
    "# Исследование надёжности заёмщиков\n",
    "\n",
    "Заказчик — кредитный отдел банка. Нужно разобраться, влияет ли семейное положение и количество детей клиента на факт погашения кредита в срок. Входные данные от банка — статистика о платёжеспособности клиентов."
   ]
  },
  {
   "cell_type": "markdown",
   "metadata": {},
   "source": [
    "## Содержание проекта\n",
    "___"
   ]
  },
  {
   "cell_type": "markdown",
   "metadata": {},
   "source": [
    "[Подготовка](#preparing)<br>\n",
    "[1.Импорт данных и исследование общей информации](#step1_import_data)<br>\n",
    "[2. Предобработка данных](#step2_preparing_data)<br>\n",
    "[2.1. Обработка пропусков](#step2_fill_na)<br>\n",
    "[2.2. Обработка некорректных или аномальных значений](#step2_incorrect_data)<br>\n",
    "[2.3. Замена типа данных](#step2_cast_types)<br>\n",
    "[2.4. Обработка дубликатов](#step2_drop_duplicates)<br>\n",
    "[2.5. Категоризация данных](#step2_category_data)<br>\n",
    "[3. Ответы на вопросы](#step3_answer_to_questions)<br>\n",
    "[3.1 Есть ли зависимость между наличием детей и возвратом кредита в срок?](#step3_question_1)<br>\n",
    "[3.2. Есть ли зависимость между семейным положением и возвратом кредита в срок?](#step3_question_2)<br>\n",
    "[3.3. Есть ли зависимость между уровнем дохода и возвратом кредита в срок?](#step3_question_3)<br>\n",
    "[3.4. Как разные цели кредита влияют на его возврат в срок?](#step3_question_4)<br>\n",
    "[4. Подведение итогов](#step4_conclusion)<br>"
   ]
  },
  {
   "cell_type": "markdown",
   "metadata": {},
   "source": [
    "___"
   ]
  },
  {
   "cell_type": "markdown",
   "metadata": {},
   "source": [
    "<a id='preparing'></a>\n",
    "# Подготовка"
   ]
  },
  {
   "cell_type": "markdown",
   "metadata": {},
   "source": [
    "## Импорт библиотек"
   ]
  },
  {
   "cell_type": "markdown",
   "metadata": {},
   "source": [
    "### Основные библиотеки"
   ]
  },
  {
   "cell_type": "code",
   "execution_count": 1,
   "metadata": {},
   "outputs": [],
   "source": [
    "import os\n",
    "import numpy as np\n",
    "import pandas as pd"
   ]
  },
  {
   "cell_type": "markdown",
   "metadata": {},
   "source": [
    "### Лемматизация"
   ]
  },
  {
   "cell_type": "code",
   "execution_count": 2,
   "metadata": {},
   "outputs": [],
   "source": [
    "from pymystem3 import Mystem"
   ]
  },
  {
   "cell_type": "markdown",
   "metadata": {},
   "source": [
    "### Библиотеки для работы с графиками"
   ]
  },
  {
   "cell_type": "code",
   "execution_count": 3,
   "metadata": {},
   "outputs": [
    {
     "name": "stderr",
     "output_type": "stream",
     "text": [
      "d:\\python\\yandex_praktikum\\lib\\site-packages\\statsmodels\\tools\\_testing.py:19: FutureWarning: pandas.util.testing is deprecated. Use the functions in the public API at pandas.testing instead.\n",
      "  import pandas.util.testing as tm\n"
     ]
    }
   ],
   "source": [
    "import plotly.express as px\n",
    "import plotly.graph_objects as go\n",
    "import plotly.subplots as ps\n",
    "import plotly.io as pio\n",
    "\n",
    "import seaborn as sns\n",
    "import matplotlib.pyplot as plt\n",
    "import matplotlib as mpl"
   ]
  },
  {
   "cell_type": "markdown",
   "metadata": {},
   "source": [
    "### Настройки библиотек"
   ]
  },
  {
   "cell_type": "code",
   "execution_count": 4,
   "metadata": {},
   "outputs": [],
   "source": [
    "# Меняем форматтер для отобраения вещественных чисел, чтобы приятно смотреть было на числа\n",
    "pd.options.display.float_format = lambda x: f\"{x:5,.6g}\".replace(\",\", \" \")"
   ]
  },
  {
   "cell_type": "code",
   "execution_count": 5,
   "metadata": {},
   "outputs": [],
   "source": [
    "#Настраиваем графики\n",
    "PLOTLY_TEMPLATE = pio.templates[\"ggplot2\"]\n",
    "PLOTLY_TEMPLATE[\"layout\"].update(margin=dict(l=15,r=15,t=70,b=15,autoexpand=True), height=600, width=1200)\n",
    "pio.templates.default = PLOTLY_TEMPLATE\n",
    "pio.renderers.default = \"png\"\n",
    "pio.kaleido.scope.default_scale = 1.5\n",
    "\n",
    "mpl.style.use(\"ggplot\")\n",
    "mpl.rcParams[\"figure.figsize\"] = 16,8\n",
    "mpl.rcParams[\"figure.dpi\"] = 96\n",
    "mpl.rcParams[\"savefig.dpi\"] = 300"
   ]
  },
  {
   "cell_type": "markdown",
   "metadata": {},
   "source": [
    "<a id='step1_import_data'></a>\n",
    "# 1. Импорт данных и исследование общей информации"
   ]
  },
  {
   "cell_type": "markdown",
   "metadata": {},
   "source": [
    "## Описание данных\n",
    "\n",
    "`children` — количество детей в семье<br>\n",
    "`days_employed` — общий трудовой стаж в днях<br>\n",
    "`dob_years` — возраст клиента в годах<br>\n",
    "`education` — уровень образования клиента<br>\n",
    "`education_id` — идентификатор уровня образования<br>\n",
    "`family_status` — семейное положение<br>\n",
    "`family_status_id` — идентификатор семейного положения<br>\n",
    "`gender` — пол клиента<br>\n",
    "`income_type` — тип занятости<br>\n",
    "`debt` — имел ли задолженность по возврату кредитов<br>\n",
    "`total_income` — ежемесячный доход<br>\n",
    "`purpose` — цель получения кредита<br>"
   ]
  },
  {
   "cell_type": "code",
   "execution_count": 6,
   "metadata": {},
   "outputs": [],
   "source": [
    "data = pd.read_csv(\"./datasets/data.csv\")"
   ]
  },
  {
   "cell_type": "markdown",
   "metadata": {},
   "source": [
    "Основная информация о данных:"
   ]
  },
  {
   "cell_type": "code",
   "execution_count": 7,
   "metadata": {},
   "outputs": [
    {
     "name": "stdout",
     "output_type": "stream",
     "text": [
      "<class 'pandas.core.frame.DataFrame'>\n",
      "RangeIndex: 21525 entries, 0 to 21524\n",
      "Data columns (total 12 columns):\n",
      " #   Column            Non-Null Count  Dtype  \n",
      "---  ------            --------------  -----  \n",
      " 0   children          21525 non-null  int64  \n",
      " 1   days_employed     19351 non-null  float64\n",
      " 2   dob_years         21525 non-null  int64  \n",
      " 3   education         21525 non-null  object \n",
      " 4   education_id      21525 non-null  int64  \n",
      " 5   family_status     21525 non-null  object \n",
      " 6   family_status_id  21525 non-null  int64  \n",
      " 7   gender            21525 non-null  object \n",
      " 8   income_type       21525 non-null  object \n",
      " 9   debt              21525 non-null  int64  \n",
      " 10  total_income      19351 non-null  float64\n",
      " 11  purpose           21525 non-null  object \n",
      "dtypes: float64(2), int64(5), object(5)\n",
      "memory usage: 2.0+ MB\n"
     ]
    }
   ],
   "source": [
    "data.info()"
   ]
  },
  {
   "cell_type": "markdown",
   "metadata": {},
   "source": [
    "Делаем случайную выборку из данных"
   ]
  },
  {
   "cell_type": "code",
   "execution_count": 8,
   "metadata": {},
   "outputs": [
    {
     "data": {
      "text/html": [
       "<div>\n",
       "<style scoped>\n",
       "    .dataframe tbody tr th:only-of-type {\n",
       "        vertical-align: middle;\n",
       "    }\n",
       "\n",
       "    .dataframe tbody tr th {\n",
       "        vertical-align: top;\n",
       "    }\n",
       "\n",
       "    .dataframe thead th {\n",
       "        text-align: right;\n",
       "    }\n",
       "</style>\n",
       "<table border=\"1\" class=\"dataframe\">\n",
       "  <thead>\n",
       "    <tr style=\"text-align: right;\">\n",
       "      <th></th>\n",
       "      <th>children</th>\n",
       "      <th>days_employed</th>\n",
       "      <th>dob_years</th>\n",
       "      <th>education</th>\n",
       "      <th>education_id</th>\n",
       "      <th>family_status</th>\n",
       "      <th>family_status_id</th>\n",
       "      <th>gender</th>\n",
       "      <th>income_type</th>\n",
       "      <th>debt</th>\n",
       "      <th>total_income</th>\n",
       "      <th>purpose</th>\n",
       "    </tr>\n",
       "  </thead>\n",
       "  <tbody>\n",
       "    <tr>\n",
       "      <th>423</th>\n",
       "      <td>0</td>\n",
       "      <td>-191.168</td>\n",
       "      <td>56</td>\n",
       "      <td>среднее</td>\n",
       "      <td>1</td>\n",
       "      <td>женат / замужем</td>\n",
       "      <td>0</td>\n",
       "      <td>M</td>\n",
       "      <td>сотрудник</td>\n",
       "      <td>0</td>\n",
       "      <td>138 654</td>\n",
       "      <td>автомобили</td>\n",
       "    </tr>\n",
       "    <tr>\n",
       "      <th>3522</th>\n",
       "      <td>0</td>\n",
       "      <td>-2 319.82</td>\n",
       "      <td>58</td>\n",
       "      <td>среднее</td>\n",
       "      <td>1</td>\n",
       "      <td>Не женат / не замужем</td>\n",
       "      <td>4</td>\n",
       "      <td>F</td>\n",
       "      <td>сотрудник</td>\n",
       "      <td>0</td>\n",
       "      <td>123 153</td>\n",
       "      <td>покупка жилья</td>\n",
       "    </tr>\n",
       "    <tr>\n",
       "      <th>8760</th>\n",
       "      <td>1</td>\n",
       "      <td>-2 990.58</td>\n",
       "      <td>34</td>\n",
       "      <td>высшее</td>\n",
       "      <td>0</td>\n",
       "      <td>гражданский брак</td>\n",
       "      <td>1</td>\n",
       "      <td>M</td>\n",
       "      <td>компаньон</td>\n",
       "      <td>0</td>\n",
       "      <td>232 381</td>\n",
       "      <td>свадьба</td>\n",
       "    </tr>\n",
       "    <tr>\n",
       "      <th>20695</th>\n",
       "      <td>0</td>\n",
       "      <td>-926.209</td>\n",
       "      <td>28</td>\n",
       "      <td>среднее</td>\n",
       "      <td>1</td>\n",
       "      <td>Не женат / не замужем</td>\n",
       "      <td>4</td>\n",
       "      <td>F</td>\n",
       "      <td>сотрудник</td>\n",
       "      <td>0</td>\n",
       "      <td>210 617</td>\n",
       "      <td>получение высшего образования</td>\n",
       "    </tr>\n",
       "    <tr>\n",
       "      <th>4351</th>\n",
       "      <td>0</td>\n",
       "      <td>-2 524.3</td>\n",
       "      <td>42</td>\n",
       "      <td>СРЕДНЕЕ</td>\n",
       "      <td>1</td>\n",
       "      <td>женат / замужем</td>\n",
       "      <td>0</td>\n",
       "      <td>F</td>\n",
       "      <td>сотрудник</td>\n",
       "      <td>0</td>\n",
       "      <td>78 487.5</td>\n",
       "      <td>сделка с автомобилем</td>\n",
       "    </tr>\n",
       "    <tr>\n",
       "      <th>3002</th>\n",
       "      <td>0</td>\n",
       "      <td>nan</td>\n",
       "      <td>28</td>\n",
       "      <td>высшее</td>\n",
       "      <td>0</td>\n",
       "      <td>женат / замужем</td>\n",
       "      <td>0</td>\n",
       "      <td>M</td>\n",
       "      <td>компаньон</td>\n",
       "      <td>0</td>\n",
       "      <td>nan</td>\n",
       "      <td>покупка жилой недвижимости</td>\n",
       "    </tr>\n",
       "    <tr>\n",
       "      <th>17306</th>\n",
       "      <td>0</td>\n",
       "      <td>-5 000.83</td>\n",
       "      <td>0</td>\n",
       "      <td>среднее</td>\n",
       "      <td>1</td>\n",
       "      <td>гражданский брак</td>\n",
       "      <td>1</td>\n",
       "      <td>F</td>\n",
       "      <td>компаньон</td>\n",
       "      <td>0</td>\n",
       "      <td>83 019.1</td>\n",
       "      <td>свадьба</td>\n",
       "    </tr>\n",
       "    <tr>\n",
       "      <th>2830</th>\n",
       "      <td>0</td>\n",
       "      <td>-574.996</td>\n",
       "      <td>40</td>\n",
       "      <td>среднее</td>\n",
       "      <td>1</td>\n",
       "      <td>женат / замужем</td>\n",
       "      <td>0</td>\n",
       "      <td>F</td>\n",
       "      <td>сотрудник</td>\n",
       "      <td>0</td>\n",
       "      <td>161 159</td>\n",
       "      <td>автомобили</td>\n",
       "    </tr>\n",
       "    <tr>\n",
       "      <th>14822</th>\n",
       "      <td>2</td>\n",
       "      <td>nan</td>\n",
       "      <td>33</td>\n",
       "      <td>среднее</td>\n",
       "      <td>1</td>\n",
       "      <td>женат / замужем</td>\n",
       "      <td>0</td>\n",
       "      <td>F</td>\n",
       "      <td>сотрудник</td>\n",
       "      <td>0</td>\n",
       "      <td>nan</td>\n",
       "      <td>заняться образованием</td>\n",
       "    </tr>\n",
       "    <tr>\n",
       "      <th>10347</th>\n",
       "      <td>1</td>\n",
       "      <td>-713.14</td>\n",
       "      <td>48</td>\n",
       "      <td>среднее</td>\n",
       "      <td>1</td>\n",
       "      <td>женат / замужем</td>\n",
       "      <td>0</td>\n",
       "      <td>M</td>\n",
       "      <td>компаньон</td>\n",
       "      <td>0</td>\n",
       "      <td>177 475</td>\n",
       "      <td>ремонт жилью</td>\n",
       "    </tr>\n",
       "  </tbody>\n",
       "</table>\n",
       "</div>"
      ],
      "text/plain": [
       "       children  days_employed  dob_years education  education_id  \\\n",
       "423           0       -191.168         56   среднее             1   \n",
       "3522          0      -2 319.82         58   среднее             1   \n",
       "8760          1      -2 990.58         34    высшее             0   \n",
       "20695         0       -926.209         28   среднее             1   \n",
       "4351          0       -2 524.3         42   СРЕДНЕЕ             1   \n",
       "3002          0            nan         28    высшее             0   \n",
       "17306         0      -5 000.83          0   среднее             1   \n",
       "2830          0       -574.996         40   среднее             1   \n",
       "14822         2            nan         33   среднее             1   \n",
       "10347         1        -713.14         48   среднее             1   \n",
       "\n",
       "               family_status  family_status_id gender income_type  debt  \\\n",
       "423          женат / замужем                 0      M   сотрудник     0   \n",
       "3522   Не женат / не замужем                 4      F   сотрудник     0   \n",
       "8760        гражданский брак                 1      M   компаньон     0   \n",
       "20695  Не женат / не замужем                 4      F   сотрудник     0   \n",
       "4351         женат / замужем                 0      F   сотрудник     0   \n",
       "3002         женат / замужем                 0      M   компаньон     0   \n",
       "17306       гражданский брак                 1      F   компаньон     0   \n",
       "2830         женат / замужем                 0      F   сотрудник     0   \n",
       "14822        женат / замужем                 0      F   сотрудник     0   \n",
       "10347        женат / замужем                 0      M   компаньон     0   \n",
       "\n",
       "       total_income                        purpose  \n",
       "423         138 654                     автомобили  \n",
       "3522        123 153                  покупка жилья  \n",
       "8760        232 381                        свадьба  \n",
       "20695       210 617  получение высшего образования  \n",
       "4351       78 487.5           сделка с автомобилем  \n",
       "3002            nan     покупка жилой недвижимости  \n",
       "17306      83 019.1                        свадьба  \n",
       "2830        161 159                     автомобили  \n",
       "14822           nan          заняться образованием  \n",
       "10347       177 475                   ремонт жилью  "
      ]
     },
     "execution_count": 8,
     "metadata": {},
     "output_type": "execute_result"
    }
   ],
   "source": [
    "data.sample(n=10, random_state=42)"
   ]
  },
  {
   "cell_type": "markdown",
   "metadata": {},
   "source": [
    "Оцениваем количество уникальных значений в колонках, это позволит найти колонки с категориальными данными, \n",
    "в которых количество значений больше, чем ожидается"
   ]
  },
  {
   "cell_type": "code",
   "execution_count": 9,
   "metadata": {},
   "outputs": [
    {
     "data": {
      "text/plain": [
       "children                8\n",
       "days_employed       19351\n",
       "dob_years              58\n",
       "education              15\n",
       "education_id            5\n",
       "family_status           5\n",
       "family_status_id        5\n",
       "gender                  3\n",
       "income_type             8\n",
       "debt                    2\n",
       "total_income        19351\n",
       "purpose                38\n",
       "dtype: int64"
      ]
     },
     "execution_count": 9,
     "metadata": {},
     "output_type": "execute_result"
    }
   ],
   "source": [
    "data.nunique()"
   ]
  },
  {
   "cell_type": "markdown",
   "metadata": {},
   "source": [
    "В колонке `gender` 3 значений, вместо ожидаемых 2х.  \n",
    "Изучим данные подробнее, выведя уникальные значения каждой из колонок"
   ]
  },
  {
   "cell_type": "code",
   "execution_count": 10,
   "metadata": {
    "scrolled": true
   },
   "outputs": [
    {
     "name": "stdout",
     "output_type": "stream",
     "text": [
      "\n",
      "children:\n",
      "\n",
      " -1        47\n",
      " 0     14149\n",
      " 1      4818\n",
      " 2      2055\n",
      " 3       330\n",
      " 4        41\n",
      " 5         9\n",
      " 20       76\n",
      "Name: children, dtype: int64\n",
      "\n",
      "days_employed:\n",
      "\n",
      " -18 388.9    1\n",
      "-17 615.6    1\n",
      "-16 593.5    1\n",
      "-16 264.7    1\n",
      "-16 119.7    1\n",
      "            ..\n",
      "401 664      1\n",
      "401 674      1\n",
      "401 675      1\n",
      "401 716      1\n",
      "401 755      1\n",
      "Name: days_employed, Length: 19351, dtype: int64\n",
      "\n",
      "dob_years:\n",
      "\n",
      " 0     101\n",
      "19     14\n",
      "20     51\n",
      "21    111\n",
      "22    183\n",
      "23    254\n",
      "24    264\n",
      "25    357\n",
      "26    408\n",
      "27    493\n",
      "28    503\n",
      "29    545\n",
      "30    540\n",
      "31    560\n",
      "32    510\n",
      "33    581\n",
      "34    603\n",
      "35    617\n",
      "36    555\n",
      "37    537\n",
      "38    598\n",
      "39    573\n",
      "40    609\n",
      "41    607\n",
      "42    597\n",
      "43    513\n",
      "44    547\n",
      "45    497\n",
      "46    475\n",
      "47    480\n",
      "48    538\n",
      "49    508\n",
      "50    514\n",
      "51    448\n",
      "52    484\n",
      "53    459\n",
      "54    479\n",
      "55    443\n",
      "56    487\n",
      "57    460\n",
      "58    461\n",
      "59    444\n",
      "60    377\n",
      "61    355\n",
      "62    352\n",
      "63    269\n",
      "64    265\n",
      "65    194\n",
      "66    183\n",
      "67    167\n",
      "68     99\n",
      "69     85\n",
      "70     65\n",
      "71     58\n",
      "72     33\n",
      "73      8\n",
      "74      6\n",
      "75      1\n",
      "Name: dob_years, dtype: int64\n",
      "\n",
      "education:\n",
      "\n",
      " ВЫСШЕЕ                   274\n",
      "Высшее                   268\n",
      "НАЧАЛЬНОЕ                 17\n",
      "НЕОКОНЧЕННОЕ ВЫСШЕЕ       29\n",
      "Начальное                 15\n",
      "Неоконченное высшее       47\n",
      "СРЕДНЕЕ                  772\n",
      "Среднее                  711\n",
      "УЧЕНАЯ СТЕПЕНЬ             1\n",
      "Ученая степень             1\n",
      "высшее                  4718\n",
      "начальное                250\n",
      "неоконченное высшее      668\n",
      "среднее                13750\n",
      "ученая степень             4\n",
      "Name: education, dtype: int64\n",
      "\n",
      "education_id:\n",
      "\n",
      " 0     5260\n",
      "1    15233\n",
      "2      744\n",
      "3      282\n",
      "4        6\n",
      "Name: education_id, dtype: int64\n",
      "\n",
      "family_status:\n",
      "\n",
      " Не женат / не замужем     2813\n",
      "в разводе                 1195\n",
      "вдовец / вдова             960\n",
      "гражданский брак          4177\n",
      "женат / замужем          12380\n",
      "Name: family_status, dtype: int64\n",
      "\n",
      "family_status_id:\n",
      "\n",
      " 0    12380\n",
      "1     4177\n",
      "2      960\n",
      "3     1195\n",
      "4     2813\n",
      "Name: family_status_id, dtype: int64\n",
      "\n",
      "gender:\n",
      "\n",
      " F      14236\n",
      "M       7288\n",
      "XNA        1\n",
      "Name: gender, dtype: int64\n",
      "\n",
      "income_type:\n",
      "\n",
      " безработный            2\n",
      "в декрете              1\n",
      "госслужащий         1459\n",
      "компаньон           5085\n",
      "пенсионер           3856\n",
      "предприниматель        2\n",
      "сотрудник          11119\n",
      "студент                1\n",
      "Name: income_type, dtype: int64\n",
      "\n",
      "debt:\n",
      "\n",
      " 0    19784\n",
      "1     1741\n",
      "Name: debt, dtype: int64\n",
      "\n",
      "total_income:\n",
      "\n",
      " 20 667.3       1\n",
      "21 205.3       1\n",
      "21 367.6       1\n",
      "21 695.1       1\n",
      "21 895.6       1\n",
      "              ..\n",
      "1.71131e+06    1\n",
      "1.71502e+06    1\n",
      "1.72628e+06    1\n",
      "2.20085e+06    1\n",
      "2.2656e+06     1\n",
      "Name: total_income, Length: 19351, dtype: int64\n",
      "\n",
      "purpose:\n",
      "\n",
      " автомобили                                478\n",
      "автомобиль                                495\n",
      "высшее образование                        453\n",
      "дополнительное образование                462\n",
      "жилье                                     647\n",
      "заняться высшим образованием              496\n",
      "заняться образованием                     412\n",
      "на покупку автомобиля                     472\n",
      "на покупку подержанного автомобиля        479\n",
      "на покупку своего автомобиля              505\n",
      "на проведение свадьбы                     777\n",
      "недвижимость                              634\n",
      "образование                               447\n",
      "операции с жильем                         653\n",
      "операции с коммерческой недвижимостью     651\n",
      "операции с недвижимостью                  676\n",
      "операции со своей недвижимостью           630\n",
      "покупка жилой недвижимости                607\n",
      "покупка жилья                             647\n",
      "покупка жилья для сдачи                   653\n",
      "покупка жилья для семьи                   641\n",
      "покупка коммерческой недвижимости         664\n",
      "покупка недвижимости                      624\n",
      "покупка своего жилья                      620\n",
      "получение высшего образования             426\n",
      "получение дополнительного образования     447\n",
      "получение образования                     443\n",
      "приобретение автомобиля                   462\n",
      "профильное образование                    436\n",
      "ремонт жилью                              612\n",
      "свадьба                                   797\n",
      "свой автомобиль                           480\n",
      "сделка с автомобилем                      455\n",
      "сделка с подержанным автомобилем          489\n",
      "строительство жилой недвижимости          626\n",
      "строительство недвижимости                620\n",
      "строительство собственной недвижимости    635\n",
      "сыграть свадьбу                           774\n",
      "Name: purpose, dtype: int64\n"
     ]
    }
   ],
   "source": [
    "num_vals = [data[col].value_counts() for col in data]\n",
    "for name_col, Vals in zip(data, num_vals):\n",
    "    print(f\"\\n{name_col}:\\n\\n {Vals.sort_index()}\")"
   ]
  },
  {
   "cell_type": "markdown",
   "metadata": {},
   "source": [
    "Количественные колонки, в которых большое количество значений, необходимо изучить подробнее"
   ]
  },
  {
   "cell_type": "code",
   "execution_count": 11,
   "metadata": {},
   "outputs": [
    {
     "data": {
      "text/html": [
       "<div>\n",
       "<style scoped>\n",
       "    .dataframe tbody tr th:only-of-type {\n",
       "        vertical-align: middle;\n",
       "    }\n",
       "\n",
       "    .dataframe tbody tr th {\n",
       "        vertical-align: top;\n",
       "    }\n",
       "\n",
       "    .dataframe thead th {\n",
       "        text-align: right;\n",
       "    }\n",
       "</style>\n",
       "<table border=\"1\" class=\"dataframe\">\n",
       "  <thead>\n",
       "    <tr style=\"text-align: right;\">\n",
       "      <th></th>\n",
       "      <th>days_employed</th>\n",
       "      <th>dob_years</th>\n",
       "      <th>total_income</th>\n",
       "    </tr>\n",
       "  </thead>\n",
       "  <tbody>\n",
       "    <tr>\n",
       "      <th>count</th>\n",
       "      <td>19 351</td>\n",
       "      <td>21525</td>\n",
       "      <td>19 351</td>\n",
       "    </tr>\n",
       "    <tr>\n",
       "      <th>min</th>\n",
       "      <td>-18 388.9</td>\n",
       "      <td>0</td>\n",
       "      <td>20 667.3</td>\n",
       "    </tr>\n",
       "    <tr>\n",
       "      <th>max</th>\n",
       "      <td>401 755</td>\n",
       "      <td>75</td>\n",
       "      <td>2.2656e+06</td>\n",
       "    </tr>\n",
       "    <tr>\n",
       "      <th>count_nan</th>\n",
       "      <td>2 174</td>\n",
       "      <td>0</td>\n",
       "      <td>2 174</td>\n",
       "    </tr>\n",
       "  </tbody>\n",
       "</table>\n",
       "</div>"
      ],
      "text/plain": [
       "           days_employed  dob_years  total_income\n",
       "count             19 351      21525        19 351\n",
       "min            -18 388.9          0      20 667.3\n",
       "max              401 755         75    2.2656e+06\n",
       "count_nan          2 174          0         2 174"
      ]
     },
     "execution_count": 11,
     "metadata": {},
     "output_type": "execute_result"
    }
   ],
   "source": [
    "data[[\"days_employed\", \"dob_years\", \"total_income\"]].agg([\"count\", \"min\", \"max\", lambda x: x.isna().sum()]).rename(index={\"<lambda_0>\":'count_nan'})"
   ]
  },
  {
   "cell_type": "markdown",
   "metadata": {},
   "source": [
    "## Вывод"
   ]
  },
  {
   "cell_type": "markdown",
   "metadata": {},
   "source": [
    " Данные имеют 21525 записи.  \n",
    " В колонках `days_employed` и `total_income` имеются пропуски значений.  \n",
    "    `gender` имеет ошибочное значение *XNA*.  \n",
    "    `children` имеет некоректное значение *-1*, и сильно отличающееся от других знаение *20*.  \n",
    "    `days_employed` содержит отрицательные значения, причем данных значений большинство.      \n",
    "    `education` содержит строковые данные в разном регистре.  \n",
    "    `dob_years` содержит значение 0."
   ]
  },
  {
   "cell_type": "markdown",
   "metadata": {},
   "source": [
    "<a id='step2_preparing_data'></a>\n",
    "# 2. Предобработка данных"
   ]
  },
  {
   "cell_type": "markdown",
   "metadata": {},
   "source": [
    "Приведен строковые признаки к нижнему регистру, убрав таким образом дубликаты. "
   ]
  },
  {
   "cell_type": "code",
   "execution_count": 12,
   "metadata": {},
   "outputs": [],
   "source": [
    "# Преобразуем к строковые колонки к одному регистру\n",
    "data[\"education\"] = data[\"education\"] .str.lower()\n",
    "data[\"family_status\"] = data[\"family_status\"] .str.lower()\n",
    "data[\"income_type\"] = data[\"income_type\"] .str.lower()\n",
    "data[\"purpose\"] = data[\"purpose\"] .str.lower()"
   ]
  },
  {
   "cell_type": "markdown",
   "metadata": {},
   "source": [
    "Разный регистр у строковых данных может быть обусловлен случайным нажатием клавишы *Caps lock*, личными предпочтениями оператора, выполняющего ввод данных, а так же самого человека, от которого эти данные были получены."
   ]
  },
  {
   "cell_type": "markdown",
   "metadata": {},
   "source": [
    "Так как у нас есть колонки, в которых идет строковые значения, а также их id (`education`, `education_id` и `family_status`, `family_status_id`), то было бы неплохо проверить, во всех ли строках таблицы совпадают строковые значения с их id. А также исправить неправильные значения id."
   ]
  },
  {
   "cell_type": "code",
   "execution_count": 13,
   "metadata": {},
   "outputs": [],
   "source": [
    "# Составим словари, сопоставляющие строковые значения с id\n",
    "education_dict = data[[\"education\", \"education_id\"]].groupby(\"education\").agg(lambda x: x.mode())#.reset_index(drop=False)\n",
    "family_dict = data[[\"family_status\", \"family_status_id\"]].groupby(\"family_status\").agg(lambda x: x.mode())#.reset_index(drop=False)\n",
    "\n",
    "# Исправление неправильных id\n",
    "data.loc[:, \"education_id\"] = education_dict.loc[data[\"education\"]].values\n",
    "data.loc[:, \"family_status_id\"] = family_dict.loc[data[\"family_status\"]].values\n"
   ]
  },
  {
   "cell_type": "markdown",
   "metadata": {},
   "source": [
    "<a id='step2_fill_na'></a>\n",
    "## 2.1. Обработка пропусков"
   ]
  },
  {
   "cell_type": "markdown",
   "metadata": {},
   "source": [
    "Пропуски были найдены в колонках `days_employed` и `total_income`. Число непропущенных записей в этих колонках совпадает (*19351*), проверим не коррелируют ли пропуски в данных колонках. А также оценим количество уникальных значений в записях,где есть пропуски, вдруг проявится какая-либо взаимосвязь пропусков с другими колонками."
   ]
  },
  {
   "cell_type": "code",
   "execution_count": 14,
   "metadata": {},
   "outputs": [
    {
     "data": {
      "text/plain": [
       "nan    2174\n",
       "Name: total_income, dtype: int64"
      ]
     },
     "execution_count": 14,
     "metadata": {},
     "output_type": "execute_result"
    }
   ],
   "source": [
    "data.loc[data[\"days_employed\"].isna(), \"total_income\"].value_counts(dropna=False)"
   ]
  },
  {
   "cell_type": "code",
   "execution_count": 15,
   "metadata": {},
   "outputs": [
    {
     "data": {
      "text/plain": [
       "children             8\n",
       "days_employed        0\n",
       "dob_years           56\n",
       "education            4\n",
       "education_id         4\n",
       "family_status        5\n",
       "family_status_id     5\n",
       "gender               2\n",
       "income_type          5\n",
       "debt                 2\n",
       "total_income         0\n",
       "purpose             38\n",
       "dtype: int64"
      ]
     },
     "execution_count": 15,
     "metadata": {},
     "output_type": "execute_result"
    }
   ],
   "source": [
    "data.loc[data[\"days_employed\"].isna(), :].nunique()"
   ]
  },
  {
   "cell_type": "markdown",
   "metadata": {},
   "source": [
    "Получили, что пропуски в данных колонках коррелируют, когда пропуск в `days_employed`, тогда пропуск и в `total_income`. Но взаимосвязь наличия\\отсутствия проспука с информацией в других колонках не прослеживается. Т.е. пропуски попадаются у разных людей.  "
   ]
  },
  {
   "cell_type": "markdown",
   "metadata": {},
   "source": [
    "Оценим несколько записей с пропущенными значениями"
   ]
  },
  {
   "cell_type": "code",
   "execution_count": 16,
   "metadata": {
    "scrolled": true
   },
   "outputs": [
    {
     "data": {
      "text/html": [
       "<div>\n",
       "<style scoped>\n",
       "    .dataframe tbody tr th:only-of-type {\n",
       "        vertical-align: middle;\n",
       "    }\n",
       "\n",
       "    .dataframe tbody tr th {\n",
       "        vertical-align: top;\n",
       "    }\n",
       "\n",
       "    .dataframe thead th {\n",
       "        text-align: right;\n",
       "    }\n",
       "</style>\n",
       "<table border=\"1\" class=\"dataframe\">\n",
       "  <thead>\n",
       "    <tr style=\"text-align: right;\">\n",
       "      <th></th>\n",
       "      <th>children</th>\n",
       "      <th>days_employed</th>\n",
       "      <th>dob_years</th>\n",
       "      <th>education</th>\n",
       "      <th>education_id</th>\n",
       "      <th>family_status</th>\n",
       "      <th>family_status_id</th>\n",
       "      <th>gender</th>\n",
       "      <th>income_type</th>\n",
       "      <th>debt</th>\n",
       "      <th>total_income</th>\n",
       "      <th>purpose</th>\n",
       "    </tr>\n",
       "  </thead>\n",
       "  <tbody>\n",
       "    <tr>\n",
       "      <th>17777</th>\n",
       "      <td>0</td>\n",
       "      <td>nan</td>\n",
       "      <td>47</td>\n",
       "      <td>среднее</td>\n",
       "      <td>1</td>\n",
       "      <td>женат / замужем</td>\n",
       "      <td>0</td>\n",
       "      <td>F</td>\n",
       "      <td>сотрудник</td>\n",
       "      <td>0</td>\n",
       "      <td>nan</td>\n",
       "      <td>покупка жилья</td>\n",
       "    </tr>\n",
       "    <tr>\n",
       "      <th>14905</th>\n",
       "      <td>0</td>\n",
       "      <td>nan</td>\n",
       "      <td>65</td>\n",
       "      <td>высшее</td>\n",
       "      <td>0</td>\n",
       "      <td>не женат / не замужем</td>\n",
       "      <td>4</td>\n",
       "      <td>F</td>\n",
       "      <td>сотрудник</td>\n",
       "      <td>0</td>\n",
       "      <td>nan</td>\n",
       "      <td>покупка своего жилья</td>\n",
       "    </tr>\n",
       "    <tr>\n",
       "      <th>3348</th>\n",
       "      <td>0</td>\n",
       "      <td>nan</td>\n",
       "      <td>44</td>\n",
       "      <td>высшее</td>\n",
       "      <td>0</td>\n",
       "      <td>не женат / не замужем</td>\n",
       "      <td>4</td>\n",
       "      <td>M</td>\n",
       "      <td>компаньон</td>\n",
       "      <td>0</td>\n",
       "      <td>nan</td>\n",
       "      <td>покупка жилья</td>\n",
       "    </tr>\n",
       "    <tr>\n",
       "      <th>16519</th>\n",
       "      <td>1</td>\n",
       "      <td>nan</td>\n",
       "      <td>28</td>\n",
       "      <td>среднее</td>\n",
       "      <td>1</td>\n",
       "      <td>женат / замужем</td>\n",
       "      <td>0</td>\n",
       "      <td>M</td>\n",
       "      <td>компаньон</td>\n",
       "      <td>0</td>\n",
       "      <td>nan</td>\n",
       "      <td>на покупку своего автомобиля</td>\n",
       "    </tr>\n",
       "    <tr>\n",
       "      <th>13645</th>\n",
       "      <td>1</td>\n",
       "      <td>nan</td>\n",
       "      <td>41</td>\n",
       "      <td>среднее</td>\n",
       "      <td>1</td>\n",
       "      <td>гражданский брак</td>\n",
       "      <td>1</td>\n",
       "      <td>F</td>\n",
       "      <td>сотрудник</td>\n",
       "      <td>0</td>\n",
       "      <td>nan</td>\n",
       "      <td>жилье</td>\n",
       "    </tr>\n",
       "    <tr>\n",
       "      <th>14148</th>\n",
       "      <td>1</td>\n",
       "      <td>nan</td>\n",
       "      <td>37</td>\n",
       "      <td>среднее</td>\n",
       "      <td>1</td>\n",
       "      <td>в разводе</td>\n",
       "      <td>3</td>\n",
       "      <td>F</td>\n",
       "      <td>сотрудник</td>\n",
       "      <td>0</td>\n",
       "      <td>nan</td>\n",
       "      <td>получение образования</td>\n",
       "    </tr>\n",
       "    <tr>\n",
       "      <th>19654</th>\n",
       "      <td>1</td>\n",
       "      <td>nan</td>\n",
       "      <td>37</td>\n",
       "      <td>высшее</td>\n",
       "      <td>0</td>\n",
       "      <td>в разводе</td>\n",
       "      <td>3</td>\n",
       "      <td>F</td>\n",
       "      <td>сотрудник</td>\n",
       "      <td>0</td>\n",
       "      <td>nan</td>\n",
       "      <td>операции с недвижимостью</td>\n",
       "    </tr>\n",
       "    <tr>\n",
       "      <th>5904</th>\n",
       "      <td>0</td>\n",
       "      <td>nan</td>\n",
       "      <td>50</td>\n",
       "      <td>среднее</td>\n",
       "      <td>1</td>\n",
       "      <td>в разводе</td>\n",
       "      <td>3</td>\n",
       "      <td>F</td>\n",
       "      <td>сотрудник</td>\n",
       "      <td>0</td>\n",
       "      <td>nan</td>\n",
       "      <td>на покупку своего автомобиля</td>\n",
       "    </tr>\n",
       "    <tr>\n",
       "      <th>17707</th>\n",
       "      <td>0</td>\n",
       "      <td>nan</td>\n",
       "      <td>36</td>\n",
       "      <td>среднее</td>\n",
       "      <td>1</td>\n",
       "      <td>женат / замужем</td>\n",
       "      <td>0</td>\n",
       "      <td>M</td>\n",
       "      <td>сотрудник</td>\n",
       "      <td>1</td>\n",
       "      <td>nan</td>\n",
       "      <td>строительство недвижимости</td>\n",
       "    </tr>\n",
       "    <tr>\n",
       "      <th>241</th>\n",
       "      <td>0</td>\n",
       "      <td>nan</td>\n",
       "      <td>47</td>\n",
       "      <td>среднее</td>\n",
       "      <td>1</td>\n",
       "      <td>женат / замужем</td>\n",
       "      <td>0</td>\n",
       "      <td>M</td>\n",
       "      <td>сотрудник</td>\n",
       "      <td>0</td>\n",
       "      <td>nan</td>\n",
       "      <td>строительство собственной недвижимости</td>\n",
       "    </tr>\n",
       "  </tbody>\n",
       "</table>\n",
       "</div>"
      ],
      "text/plain": [
       "       children  days_employed  dob_years education  education_id  \\\n",
       "17777         0            nan         47   среднее             1   \n",
       "14905         0            nan         65    высшее             0   \n",
       "3348          0            nan         44    высшее             0   \n",
       "16519         1            nan         28   среднее             1   \n",
       "13645         1            nan         41   среднее             1   \n",
       "14148         1            nan         37   среднее             1   \n",
       "19654         1            nan         37    высшее             0   \n",
       "5904          0            nan         50   среднее             1   \n",
       "17707         0            nan         36   среднее             1   \n",
       "241           0            nan         47   среднее             1   \n",
       "\n",
       "               family_status  family_status_id gender income_type  debt  \\\n",
       "17777        женат / замужем                 0      F   сотрудник     0   \n",
       "14905  не женат / не замужем                 4      F   сотрудник     0   \n",
       "3348   не женат / не замужем                 4      M   компаньон     0   \n",
       "16519        женат / замужем                 0      M   компаньон     0   \n",
       "13645       гражданский брак                 1      F   сотрудник     0   \n",
       "14148              в разводе                 3      F   сотрудник     0   \n",
       "19654              в разводе                 3      F   сотрудник     0   \n",
       "5904               в разводе                 3      F   сотрудник     0   \n",
       "17707        женат / замужем                 0      M   сотрудник     1   \n",
       "241          женат / замужем                 0      M   сотрудник     0   \n",
       "\n",
       "       total_income                                 purpose  \n",
       "17777           nan                           покупка жилья  \n",
       "14905           nan                    покупка своего жилья  \n",
       "3348            nan                           покупка жилья  \n",
       "16519           nan            на покупку своего автомобиля  \n",
       "13645           nan                                   жилье  \n",
       "14148           nan                   получение образования  \n",
       "19654           nan                операции с недвижимостью  \n",
       "5904            nan            на покупку своего автомобиля  \n",
       "17707           nan              строительство недвижимости  \n",
       "241             nan  строительство собственной недвижимости  "
      ]
     },
     "execution_count": 16,
     "metadata": {},
     "output_type": "execute_result"
    }
   ],
   "source": [
    "data.loc[data[\"days_employed\"].isna(), :].sample(10)"
   ]
  },
  {
   "cell_type": "markdown",
   "metadata": {},
   "source": [
    "В целом, в записях, где есть пропуски, остальная информация корректна. Только странно, что информация о типе занятости (*income_type*) сохранена. Возможно пропуски связаны с тем, что этим людем запрещено раскрывать информацию о доходах и стаже, или они просто отказались её сообщить.  "
   ]
  },
  {
   "cell_type": "code",
   "execution_count": 17,
   "metadata": {},
   "outputs": [],
   "source": [
    "data_income = data[[\"total_income\"]].copy()"
   ]
  },
  {
   "cell_type": "markdown",
   "metadata": {},
   "source": [
    "Посмотрим на гистограмму доходов, для наглядности ограничимся уровнем доходов до 600 000:"
   ]
  },
  {
   "cell_type": "code",
   "execution_count": 18,
   "metadata": {},
   "outputs": [
    {
     "data": {
      "image/png": "[encoded data removed]"
     },
     "metadata": {},
     "output_type": "display_data"
    }
   ],
   "source": [
    "fig = px.histogram(data.query(\"total_income <= 600_000\"), x=\"total_income\", title=\"Распределение доходов\")\n",
    "fig.update_layout(xaxis=dict(title=\"Доходы\"), yaxis=dict(title=\"\"))"
   ]
  },
  {
   "cell_type": "markdown",
   "metadata": {},
   "source": [
    "Хотелось бы сохранить данное распределение при заполнении пропусков (т.к. число пропусков не велико, поэтому они не могли сильно повлиять на картину распределения значений доходов), поэтому пропуски будем заполнять случайно выбранными значениями из имеющихся значений, колонку `days_employed` трогать не будем."
   ]
  },
  {
   "cell_type": "code",
   "execution_count": 88,
   "metadata": {},
   "outputs": [],
   "source": [
    "val = data.loc[data[\"total_income\"].notnull(), \"total_income\"].sample(n=data[\"total_income\"].isna().sum())\n",
    "val.set_axis(data[data[\"total_income\"].isna()].index, axis=\"index\", inplace=True)"
   ]
  },
  {
   "cell_type": "code",
   "execution_count": 89,
   "metadata": {},
   "outputs": [
    {
     "data": {
      "text/plain": [
       "19351"
      ]
     },
     "execution_count": 89,
     "metadata": {},
     "output_type": "execute_result"
    }
   ],
   "source": [
    "data[\"total_income\"].notnull().sum()"
   ]
  },
  {
   "cell_type": "markdown",
   "metadata": {},
   "source": [
    "Пропуски устранены."
   ]
  },
  {
   "cell_type": "markdown",
   "metadata": {},
   "source": [
    "Посмотрим на то, как изменилось распределение значений доходов:"
   ]
  },
  {
   "cell_type": "code",
   "execution_count": 90,
   "metadata": {},
   "outputs": [
    {
     "data": {
      "image/png": "[encoded data removed]"
     },
     "metadata": {},
     "output_type": "display_data"
    }
   ],
   "source": [
    "fig = px.histogram(data.query(\"total_income <= 600_000\"), x=\"total_income\", title=\"Распределение доходов после устранения пропусков\")\n",
    "fig.update_layout(xaxis=dict(title=\"Доходы\"), yaxis=dict(title=\"\"))"
   ]
  },
  {
   "cell_type": "markdown",
   "metadata": {},
   "source": [
    "Распределения до и после заполнения пропусков похожи."
   ]
  },
  {
   "cell_type": "markdown",
   "metadata": {},
   "source": [
    "Оценим, как изменится распределение, если заполнить пропуски медианой:"
   ]
  },
  {
   "cell_type": "code",
   "execution_count": 91,
   "metadata": {},
   "outputs": [],
   "source": [
    "data_income[\"total_income\"].fillna(value=data_income[\"total_income\"].median(),  inplace=True)"
   ]
  },
  {
   "cell_type": "code",
   "execution_count": 92,
   "metadata": {},
   "outputs": [
    {
     "data": {
      "image/png": "[encoded data removed]"
     },
     "metadata": {},
     "output_type": "display_data"
    }
   ],
   "source": [
    "fig = px.histogram(data_income.query(\"total_income <= 600_000\"), x=\"total_income\", title=\"Распределение доходов\")\n",
    "fig.update_layout(xaxis=dict(title=\"Доходы\"), yaxis=dict(title=\"\"))"
   ]
  },
  {
   "cell_type": "code",
   "execution_count": 93,
   "metadata": {},
   "outputs": [
    {
     "data": {
      "text/plain": [
       "145 018     2175\n",
       "112 874        1\n",
       "104 382        1\n",
       "182 037        1\n",
       "122 422        1\n",
       "            ... \n",
       "133 299        1\n",
       "115 081        1\n",
       "84 896.8       1\n",
       "153 839        1\n",
       "150 014        1\n",
       "Name: total_income, Length: 19351, dtype: int64"
      ]
     },
     "execution_count": 93,
     "metadata": {},
     "output_type": "execute_result"
    }
   ],
   "source": [
    "data_income[\"total_income\"].value_counts(dropna=False)"
   ]
  },
  {
   "cell_type": "markdown",
   "metadata": {},
   "source": [
    "Видим сильный выброс на гистограмме, что не очень хорошо."
   ]
  },
  {
   "cell_type": "markdown",
   "metadata": {},
   "source": [
    "Можно попробовать заполнить пропуски не единой медианой, а в соответствии с типом занятости и/или возрастной группой. Тогда у нас будет множество значений:"
   ]
  },
  {
   "cell_type": "code",
   "execution_count": 94,
   "metadata": {},
   "outputs": [],
   "source": [
    "category_age = { \"0-10\": 10,\n",
    "                \"11-20\": 20,\n",
    "                \"21-30\": 30,\n",
    "                \"31-40\": 40,\n",
    "                \"41-50\": 50,\n",
    "                \"51-60\": 60,\n",
    "                \"61-70\": 70,\n",
    "                \"71-80\": 80}\n",
    "def cat_dob_years(value):\n",
    "    for Cat, AgeHigh in category_age.items():\n",
    "        if value <= AgeHigh: break\n",
    "    else: \n",
    "        return pd.np.nan\n",
    "    return Cat\n",
    "        "
   ]
  },
  {
   "cell_type": "code",
   "execution_count": 95,
   "metadata": {},
   "outputs": [],
   "source": [
    "data_for_pivot_income = data.loc[:,[\"total_income\", \"dob_years\", \"income_type\"]].copy()\n",
    "data_for_pivot_income[\"dob_years_category\"] = data_for_pivot_income[\"dob_years\"].apply(cat_dob_years)"
   ]
  },
  {
   "cell_type": "code",
   "execution_count": 96,
   "metadata": {},
   "outputs": [
    {
     "data": {
      "text/html": [
       "<div>\n",
       "<style scoped>\n",
       "    .dataframe tbody tr th:only-of-type {\n",
       "        vertical-align: middle;\n",
       "    }\n",
       "\n",
       "    .dataframe tbody tr th {\n",
       "        vertical-align: top;\n",
       "    }\n",
       "\n",
       "    .dataframe thead th {\n",
       "        text-align: right;\n",
       "    }\n",
       "</style>\n",
       "<table border=\"1\" class=\"dataframe\">\n",
       "  <thead>\n",
       "    <tr style=\"text-align: right;\">\n",
       "      <th>dob_years_category</th>\n",
       "      <th>0-10</th>\n",
       "      <th>11-20</th>\n",
       "      <th>21-30</th>\n",
       "      <th>31-40</th>\n",
       "      <th>41-50</th>\n",
       "      <th>51-60</th>\n",
       "      <th>61-70</th>\n",
       "      <th>71-80</th>\n",
       "    </tr>\n",
       "    <tr>\n",
       "      <th>income_type</th>\n",
       "      <th></th>\n",
       "      <th></th>\n",
       "      <th></th>\n",
       "      <th></th>\n",
       "      <th></th>\n",
       "      <th></th>\n",
       "      <th></th>\n",
       "      <th></th>\n",
       "    </tr>\n",
       "  </thead>\n",
       "  <tbody>\n",
       "    <tr>\n",
       "      <th>безработный</th>\n",
       "      <td>nan</td>\n",
       "      <td>nan</td>\n",
       "      <td>nan</td>\n",
       "      <td>59 957</td>\n",
       "      <td>202 723</td>\n",
       "      <td>nan</td>\n",
       "      <td>nan</td>\n",
       "      <td>nan</td>\n",
       "    </tr>\n",
       "    <tr>\n",
       "      <th>в декрете</th>\n",
       "      <td>nan</td>\n",
       "      <td>nan</td>\n",
       "      <td>nan</td>\n",
       "      <td>53 829.1</td>\n",
       "      <td>nan</td>\n",
       "      <td>nan</td>\n",
       "      <td>nan</td>\n",
       "      <td>nan</td>\n",
       "    </tr>\n",
       "    <tr>\n",
       "      <th>госслужащий</th>\n",
       "      <td>125 568</td>\n",
       "      <td>75 787.4</td>\n",
       "      <td>145 626</td>\n",
       "      <td>156 345</td>\n",
       "      <td>149 046</td>\n",
       "      <td>146 205</td>\n",
       "      <td>157 151</td>\n",
       "      <td>122 067</td>\n",
       "    </tr>\n",
       "    <tr>\n",
       "      <th>компаньон</th>\n",
       "      <td>190 830</td>\n",
       "      <td>122 802</td>\n",
       "      <td>161 135</td>\n",
       "      <td>181 060</td>\n",
       "      <td>177 203</td>\n",
       "      <td>170 929</td>\n",
       "      <td>182 325</td>\n",
       "      <td>175 868</td>\n",
       "    </tr>\n",
       "    <tr>\n",
       "      <th>пенсионер</th>\n",
       "      <td>102 622</td>\n",
       "      <td>nan</td>\n",
       "      <td>80 044.2</td>\n",
       "      <td>115 469</td>\n",
       "      <td>142 125</td>\n",
       "      <td>120 368</td>\n",
       "      <td>115 141</td>\n",
       "      <td>113 417</td>\n",
       "    </tr>\n",
       "    <tr>\n",
       "      <th>предприниматель</th>\n",
       "      <td>nan</td>\n",
       "      <td>nan</td>\n",
       "      <td>499 163</td>\n",
       "      <td>nan</td>\n",
       "      <td>nan</td>\n",
       "      <td>nan</td>\n",
       "      <td>nan</td>\n",
       "      <td>nan</td>\n",
       "    </tr>\n",
       "    <tr>\n",
       "      <th>сотрудник</th>\n",
       "      <td>144 991</td>\n",
       "      <td>102 231</td>\n",
       "      <td>136 977</td>\n",
       "      <td>145 390</td>\n",
       "      <td>143 450</td>\n",
       "      <td>141 852</td>\n",
       "      <td>147 191</td>\n",
       "      <td>126 538</td>\n",
       "    </tr>\n",
       "    <tr>\n",
       "      <th>студент</th>\n",
       "      <td>nan</td>\n",
       "      <td>nan</td>\n",
       "      <td>98 201.6</td>\n",
       "      <td>nan</td>\n",
       "      <td>nan</td>\n",
       "      <td>nan</td>\n",
       "      <td>nan</td>\n",
       "      <td>nan</td>\n",
       "    </tr>\n",
       "  </tbody>\n",
       "</table>\n",
       "</div>"
      ],
      "text/plain": [
       "dob_years_category    0-10    11-20    21-30    31-40   41-50   51-60   61-70  \\\n",
       "income_type                                                                     \n",
       "безработный            nan      nan      nan   59 957 202 723     nan     nan   \n",
       "в декрете              nan      nan      nan 53 829.1     nan     nan     nan   \n",
       "госслужащий        125 568 75 787.4  145 626  156 345 149 046 146 205 157 151   \n",
       "компаньон          190 830  122 802  161 135  181 060 177 203 170 929 182 325   \n",
       "пенсионер          102 622      nan 80 044.2  115 469 142 125 120 368 115 141   \n",
       "предприниматель        nan      nan  499 163      nan     nan     nan     nan   \n",
       "сотрудник          144 991  102 231  136 977  145 390 143 450 141 852 147 191   \n",
       "студент                nan      nan 98 201.6      nan     nan     nan     nan   \n",
       "\n",
       "dob_years_category   71-80  \n",
       "income_type                 \n",
       "безработный            nan  \n",
       "в декрете              nan  \n",
       "госслужащий        122 067  \n",
       "компаньон          175 868  \n",
       "пенсионер          113 417  \n",
       "предприниматель        nan  \n",
       "сотрудник          126 538  \n",
       "студент                nan  "
      ]
     },
     "execution_count": 96,
     "metadata": {},
     "output_type": "execute_result"
    }
   ],
   "source": [
    "pivot_total_income = data_for_pivot_income.pivot_table(values=\"total_income\", columns=[\"dob_years_category\"],index=[\"income_type\"], aggfunc=\"median\")\n",
    "pivot_total_income"
   ]
  },
  {
   "cell_type": "code",
   "execution_count": 97,
   "metadata": {},
   "outputs": [
    {
     "data": {
      "text/html": [
       "<div>\n",
       "<style scoped>\n",
       "    .dataframe tbody tr th:only-of-type {\n",
       "        vertical-align: middle;\n",
       "    }\n",
       "\n",
       "    .dataframe tbody tr th {\n",
       "        vertical-align: top;\n",
       "    }\n",
       "\n",
       "    .dataframe thead th {\n",
       "        text-align: right;\n",
       "    }\n",
       "</style>\n",
       "<table border=\"1\" class=\"dataframe\">\n",
       "  <thead>\n",
       "    <tr style=\"text-align: right;\">\n",
       "      <th></th>\n",
       "      <th>income_type</th>\n",
       "      <th>dob_years_category</th>\n",
       "    </tr>\n",
       "  </thead>\n",
       "  <tbody>\n",
       "    <tr>\n",
       "      <th>12</th>\n",
       "      <td>пенсионер</td>\n",
       "      <td>61-70</td>\n",
       "    </tr>\n",
       "    <tr>\n",
       "      <th>26</th>\n",
       "      <td>госслужащий</td>\n",
       "      <td>41-50</td>\n",
       "    </tr>\n",
       "    <tr>\n",
       "      <th>29</th>\n",
       "      <td>пенсионер</td>\n",
       "      <td>61-70</td>\n",
       "    </tr>\n",
       "    <tr>\n",
       "      <th>41</th>\n",
       "      <td>госслужащий</td>\n",
       "      <td>41-50</td>\n",
       "    </tr>\n",
       "    <tr>\n",
       "      <th>55</th>\n",
       "      <td>пенсионер</td>\n",
       "      <td>51-60</td>\n",
       "    </tr>\n",
       "    <tr>\n",
       "      <th>...</th>\n",
       "      <td>...</td>\n",
       "      <td>...</td>\n",
       "    </tr>\n",
       "    <tr>\n",
       "      <th>21489</th>\n",
       "      <td>компаньон</td>\n",
       "      <td>41-50</td>\n",
       "    </tr>\n",
       "    <tr>\n",
       "      <th>21495</th>\n",
       "      <td>сотрудник</td>\n",
       "      <td>41-50</td>\n",
       "    </tr>\n",
       "    <tr>\n",
       "      <th>21497</th>\n",
       "      <td>компаньон</td>\n",
       "      <td>41-50</td>\n",
       "    </tr>\n",
       "    <tr>\n",
       "      <th>21502</th>\n",
       "      <td>сотрудник</td>\n",
       "      <td>41-50</td>\n",
       "    </tr>\n",
       "    <tr>\n",
       "      <th>21510</th>\n",
       "      <td>сотрудник</td>\n",
       "      <td>21-30</td>\n",
       "    </tr>\n",
       "  </tbody>\n",
       "</table>\n",
       "<p>2174 rows × 2 columns</p>\n",
       "</div>"
      ],
      "text/plain": [
       "       income_type dob_years_category\n",
       "12       пенсионер              61-70\n",
       "26     госслужащий              41-50\n",
       "29       пенсионер              61-70\n",
       "41     госслужащий              41-50\n",
       "55       пенсионер              51-60\n",
       "...            ...                ...\n",
       "21489    компаньон              41-50\n",
       "21495    сотрудник              41-50\n",
       "21497    компаньон              41-50\n",
       "21502    сотрудник              41-50\n",
       "21510    сотрудник              21-30\n",
       "\n",
       "[2174 rows x 2 columns]"
      ]
     },
     "execution_count": 97,
     "metadata": {},
     "output_type": "execute_result"
    }
   ],
   "source": [
    "index_nan = data_for_pivot_income.loc[data_for_pivot_income[\"total_income\"].isna(), [\"income_type\", \"dob_years_category\"]]\n",
    "index_nan"
   ]
  },
  {
   "cell_type": "code",
   "execution_count": 98,
   "metadata": {},
   "outputs": [],
   "source": [
    "fill_nan = []\n",
    "for inc_type, dob_year in index_nan.iterrows():\n",
    "    fill_nan.append(pivot_total_income.loc[dob_year.iloc[0], dob_year.iloc[1]])\n",
    "fill_nan = np.array(fill_nan)\n",
    "fill_nan = pd.Series(data=fill_nan, index=index_nan.index)"
   ]
  },
  {
   "cell_type": "code",
   "execution_count": 99,
   "metadata": {},
   "outputs": [],
   "source": [
    "data_for_pivot_income[\"total_income\"].fillna(fill_nan, inplace=True)"
   ]
  },
  {
   "cell_type": "code",
   "execution_count": 100,
   "metadata": {},
   "outputs": [],
   "source": [
    "data_for_pivot_income.dropna(inplace=True)"
   ]
  },
  {
   "cell_type": "code",
   "execution_count": 101,
   "metadata": {},
   "outputs": [
    {
     "name": "stdout",
     "output_type": "stream",
     "text": [
      "<class 'pandas.core.frame.DataFrame'>\n",
      "Int64Index: 21524 entries, 0 to 21524\n",
      "Data columns (total 4 columns):\n",
      " #   Column              Non-Null Count  Dtype  \n",
      "---  ------              --------------  -----  \n",
      " 0   total_income        21524 non-null  float64\n",
      " 1   dob_years           21524 non-null  int64  \n",
      " 2   income_type         21524 non-null  object \n",
      " 3   dob_years_category  21524 non-null  object \n",
      "dtypes: float64(1), int64(1), object(2)\n",
      "memory usage: 840.8+ KB\n"
     ]
    }
   ],
   "source": [
    "data_for_pivot_income.info()"
   ]
  },
  {
   "cell_type": "code",
   "execution_count": 102,
   "metadata": {},
   "outputs": [
    {
     "data": {
      "image/png": "[encoded data removed]"
     },
     "metadata": {},
     "output_type": "display_data"
    }
   ],
   "source": [
    "fig = px.histogram(data_for_pivot_income.query(\"total_income <= 600_000\"), x=\"total_income\", title=\"Распределение доходов\")\n",
    "fig.update_layout(xaxis=dict(title=\"Доходы\"), yaxis=dict(title=\"\"))"
   ]
  },
  {
   "cell_type": "markdown",
   "metadata": {},
   "source": [
    "Получилось лучше, чем просто заполнение медианой, но что-то всё-равно пики есть."
   ]
  },
  {
   "cell_type": "markdown",
   "metadata": {},
   "source": [
    "### Вывод"
   ]
  },
  {
   "cell_type": "markdown",
   "metadata": {},
   "source": [
    "Заполнили пропуски значениями, сформированными согласно функции распределения доходов."
   ]
  },
  {
   "cell_type": "markdown",
   "metadata": {},
   "source": [
    "<a id='step2_incorrect_data'></a>\n",
    "## 2.2. Обработка некорректных или аномальных значений"
   ]
  },
  {
   "cell_type": "markdown",
   "metadata": {},
   "source": [
    "Рассмотрим каждую колонку, где встречаются некорректные, или аномальные значения, по отдельности"
   ]
  },
  {
   "cell_type": "markdown",
   "metadata": {},
   "source": [
    "`children`, некорректное значение *-1*"
   ]
  },
  {
   "cell_type": "code",
   "execution_count": 103,
   "metadata": {},
   "outputs": [
    {
     "data": {
      "text/plain": [
       "children             1\n",
       "days_employed       44\n",
       "dob_years           30\n",
       "education            3\n",
       "education_id         3\n",
       "family_status        5\n",
       "family_status_id     5\n",
       "gender               2\n",
       "income_type          4\n",
       "debt                 2\n",
       "total_income        44\n",
       "purpose             30\n",
       "dtype: int64"
      ]
     },
     "execution_count": 103,
     "metadata": {},
     "output_type": "execute_result"
    }
   ],
   "source": [
    "data[data[\"children\"] == -1].nunique()"
   ]
  },
  {
   "cell_type": "code",
   "execution_count": 104,
   "metadata": {
    "scrolled": true
   },
   "outputs": [
    {
     "data": {
      "text/html": [
       "<div>\n",
       "<style scoped>\n",
       "    .dataframe tbody tr th:only-of-type {\n",
       "        vertical-align: middle;\n",
       "    }\n",
       "\n",
       "    .dataframe tbody tr th {\n",
       "        vertical-align: top;\n",
       "    }\n",
       "\n",
       "    .dataframe thead th {\n",
       "        text-align: right;\n",
       "    }\n",
       "</style>\n",
       "<table border=\"1\" class=\"dataframe\">\n",
       "  <thead>\n",
       "    <tr style=\"text-align: right;\">\n",
       "      <th></th>\n",
       "      <th>children</th>\n",
       "      <th>days_employed</th>\n",
       "      <th>dob_years</th>\n",
       "      <th>education</th>\n",
       "      <th>education_id</th>\n",
       "      <th>family_status</th>\n",
       "      <th>family_status_id</th>\n",
       "      <th>gender</th>\n",
       "      <th>income_type</th>\n",
       "      <th>debt</th>\n",
       "      <th>total_income</th>\n",
       "      <th>purpose</th>\n",
       "    </tr>\n",
       "  </thead>\n",
       "  <tbody>\n",
       "    <tr>\n",
       "      <th>11268</th>\n",
       "      <td>-1</td>\n",
       "      <td>-1 048.78</td>\n",
       "      <td>30</td>\n",
       "      <td>высшее</td>\n",
       "      <td>0</td>\n",
       "      <td>гражданский брак</td>\n",
       "      <td>1</td>\n",
       "      <td>F</td>\n",
       "      <td>компаньон</td>\n",
       "      <td>0</td>\n",
       "      <td>321 604</td>\n",
       "      <td>на покупку автомобиля</td>\n",
       "    </tr>\n",
       "    <tr>\n",
       "      <th>10365</th>\n",
       "      <td>-1</td>\n",
       "      <td>345 774</td>\n",
       "      <td>63</td>\n",
       "      <td>высшее</td>\n",
       "      <td>0</td>\n",
       "      <td>вдовец / вдова</td>\n",
       "      <td>2</td>\n",
       "      <td>F</td>\n",
       "      <td>пенсионер</td>\n",
       "      <td>0</td>\n",
       "      <td>170 763</td>\n",
       "      <td>строительство жилой недвижимости</td>\n",
       "    </tr>\n",
       "    <tr>\n",
       "      <th>2073</th>\n",
       "      <td>-1</td>\n",
       "      <td>-2 539.76</td>\n",
       "      <td>42</td>\n",
       "      <td>среднее</td>\n",
       "      <td>1</td>\n",
       "      <td>в разводе</td>\n",
       "      <td>3</td>\n",
       "      <td>F</td>\n",
       "      <td>компаньон</td>\n",
       "      <td>0</td>\n",
       "      <td>162 639</td>\n",
       "      <td>покупка жилья</td>\n",
       "    </tr>\n",
       "    <tr>\n",
       "      <th>20393</th>\n",
       "      <td>-1</td>\n",
       "      <td>355 157</td>\n",
       "      <td>69</td>\n",
       "      <td>среднее</td>\n",
       "      <td>1</td>\n",
       "      <td>не женат / не замужем</td>\n",
       "      <td>4</td>\n",
       "      <td>F</td>\n",
       "      <td>пенсионер</td>\n",
       "      <td>0</td>\n",
       "      <td>116 521</td>\n",
       "      <td>операции с недвижимостью</td>\n",
       "    </tr>\n",
       "    <tr>\n",
       "      <th>10918</th>\n",
       "      <td>-1</td>\n",
       "      <td>340 499</td>\n",
       "      <td>50</td>\n",
       "      <td>среднее</td>\n",
       "      <td>1</td>\n",
       "      <td>женат / замужем</td>\n",
       "      <td>0</td>\n",
       "      <td>M</td>\n",
       "      <td>пенсионер</td>\n",
       "      <td>0</td>\n",
       "      <td>170 763</td>\n",
       "      <td>покупка своего жилья</td>\n",
       "    </tr>\n",
       "    <tr>\n",
       "      <th>7190</th>\n",
       "      <td>-1</td>\n",
       "      <td>-5 928.2</td>\n",
       "      <td>34</td>\n",
       "      <td>среднее</td>\n",
       "      <td>1</td>\n",
       "      <td>женат / замужем</td>\n",
       "      <td>0</td>\n",
       "      <td>M</td>\n",
       "      <td>сотрудник</td>\n",
       "      <td>0</td>\n",
       "      <td>184 315</td>\n",
       "      <td>приобретение автомобиля</td>\n",
       "    </tr>\n",
       "    <tr>\n",
       "      <th>19417</th>\n",
       "      <td>-1</td>\n",
       "      <td>350 341</td>\n",
       "      <td>28</td>\n",
       "      <td>среднее</td>\n",
       "      <td>1</td>\n",
       "      <td>в разводе</td>\n",
       "      <td>3</td>\n",
       "      <td>F</td>\n",
       "      <td>пенсионер</td>\n",
       "      <td>0</td>\n",
       "      <td>52 873</td>\n",
       "      <td>автомобили</td>\n",
       "    </tr>\n",
       "    <tr>\n",
       "      <th>11109</th>\n",
       "      <td>-1</td>\n",
       "      <td>-3 438.46</td>\n",
       "      <td>59</td>\n",
       "      <td>среднее</td>\n",
       "      <td>1</td>\n",
       "      <td>женат / замужем</td>\n",
       "      <td>0</td>\n",
       "      <td>F</td>\n",
       "      <td>сотрудник</td>\n",
       "      <td>0</td>\n",
       "      <td>219 874</td>\n",
       "      <td>операции с жильем</td>\n",
       "    </tr>\n",
       "    <tr>\n",
       "      <th>1363</th>\n",
       "      <td>-1</td>\n",
       "      <td>-1 195.26</td>\n",
       "      <td>55</td>\n",
       "      <td>среднее</td>\n",
       "      <td>1</td>\n",
       "      <td>женат / замужем</td>\n",
       "      <td>0</td>\n",
       "      <td>F</td>\n",
       "      <td>компаньон</td>\n",
       "      <td>0</td>\n",
       "      <td>69 550.7</td>\n",
       "      <td>профильное образование</td>\n",
       "    </tr>\n",
       "    <tr>\n",
       "      <th>10177</th>\n",
       "      <td>-1</td>\n",
       "      <td>-1 743.6</td>\n",
       "      <td>37</td>\n",
       "      <td>среднее</td>\n",
       "      <td>1</td>\n",
       "      <td>женат / замужем</td>\n",
       "      <td>0</td>\n",
       "      <td>M</td>\n",
       "      <td>сотрудник</td>\n",
       "      <td>0</td>\n",
       "      <td>310 368</td>\n",
       "      <td>получение образования</td>\n",
       "    </tr>\n",
       "  </tbody>\n",
       "</table>\n",
       "</div>"
      ],
      "text/plain": [
       "       children  days_employed  dob_years education  education_id  \\\n",
       "11268        -1      -1 048.78         30    высшее             0   \n",
       "10365        -1        345 774         63    высшее             0   \n",
       "2073         -1      -2 539.76         42   среднее             1   \n",
       "20393        -1        355 157         69   среднее             1   \n",
       "10918        -1        340 499         50   среднее             1   \n",
       "7190         -1       -5 928.2         34   среднее             1   \n",
       "19417        -1        350 341         28   среднее             1   \n",
       "11109        -1      -3 438.46         59   среднее             1   \n",
       "1363         -1      -1 195.26         55   среднее             1   \n",
       "10177        -1       -1 743.6         37   среднее             1   \n",
       "\n",
       "               family_status  family_status_id gender income_type  debt  \\\n",
       "11268       гражданский брак                 1      F   компаньон     0   \n",
       "10365         вдовец / вдова                 2      F   пенсионер     0   \n",
       "2073               в разводе                 3      F   компаньон     0   \n",
       "20393  не женат / не замужем                 4      F   пенсионер     0   \n",
       "10918        женат / замужем                 0      M   пенсионер     0   \n",
       "7190         женат / замужем                 0      M   сотрудник     0   \n",
       "19417              в разводе                 3      F   пенсионер     0   \n",
       "11109        женат / замужем                 0      F   сотрудник     0   \n",
       "1363         женат / замужем                 0      F   компаньон     0   \n",
       "10177        женат / замужем                 0      M   сотрудник     0   \n",
       "\n",
       "       total_income                           purpose  \n",
       "11268       321 604             на покупку автомобиля  \n",
       "10365       170 763  строительство жилой недвижимости  \n",
       "2073        162 639                     покупка жилья  \n",
       "20393       116 521          операции с недвижимостью  \n",
       "10918       170 763              покупка своего жилья  \n",
       "7190        184 315           приобретение автомобиля  \n",
       "19417        52 873                        автомобили  \n",
       "11109       219 874                 операции с жильем  \n",
       "1363       69 550.7            профильное образование  \n",
       "10177       310 368             получение образования  "
      ]
     },
     "execution_count": 104,
     "metadata": {},
     "output_type": "execute_result"
    }
   ],
   "source": [
    "data[data[\"children\"] == -1].sample(10)"
   ]
  },
  {
   "cell_type": "markdown",
   "metadata": {},
   "source": [
    "Записи, у которых значение в поле `children` равно *-1*, имеют корректные значение в остальных колонках,  в них информация разнообразна, не прослеживается связь значений поля `children` с другими полями записей."
   ]
  },
  {
   "cell_type": "markdown",
   "metadata": {},
   "source": [
    "Возможно, что значение *-1* - это определенный код, когда человек отказывается сообщить информацию о детях. Поэтому не будем учитывать данные записи при ответе на вопрос : *Есть ли зависимость между наличием детей и возвратом кредита в срок?*"
   ]
  },
  {
   "cell_type": "markdown",
   "metadata": {},
   "source": [
    "`children`, аномальное значение *20*"
   ]
  },
  {
   "cell_type": "code",
   "execution_count": 105,
   "metadata": {
    "scrolled": true
   },
   "outputs": [
    {
     "data": {
      "text/html": [
       "<div>\n",
       "<style scoped>\n",
       "    .dataframe tbody tr th:only-of-type {\n",
       "        vertical-align: middle;\n",
       "    }\n",
       "\n",
       "    .dataframe tbody tr th {\n",
       "        vertical-align: top;\n",
       "    }\n",
       "\n",
       "    .dataframe thead th {\n",
       "        text-align: right;\n",
       "    }\n",
       "</style>\n",
       "<table border=\"1\" class=\"dataframe\">\n",
       "  <thead>\n",
       "    <tr style=\"text-align: right;\">\n",
       "      <th></th>\n",
       "      <th>children</th>\n",
       "      <th>days_employed</th>\n",
       "      <th>dob_years</th>\n",
       "      <th>education</th>\n",
       "      <th>education_id</th>\n",
       "      <th>family_status</th>\n",
       "      <th>family_status_id</th>\n",
       "      <th>gender</th>\n",
       "      <th>income_type</th>\n",
       "      <th>debt</th>\n",
       "      <th>total_income</th>\n",
       "      <th>purpose</th>\n",
       "    </tr>\n",
       "  </thead>\n",
       "  <tbody>\n",
       "    <tr>\n",
       "      <th>606</th>\n",
       "      <td>20</td>\n",
       "      <td>-880.221</td>\n",
       "      <td>21</td>\n",
       "      <td>среднее</td>\n",
       "      <td>1</td>\n",
       "      <td>женат / замужем</td>\n",
       "      <td>0</td>\n",
       "      <td>M</td>\n",
       "      <td>компаньон</td>\n",
       "      <td>0</td>\n",
       "      <td>145 335</td>\n",
       "      <td>покупка жилья</td>\n",
       "    </tr>\n",
       "    <tr>\n",
       "      <th>720</th>\n",
       "      <td>20</td>\n",
       "      <td>-855.596</td>\n",
       "      <td>44</td>\n",
       "      <td>среднее</td>\n",
       "      <td>1</td>\n",
       "      <td>женат / замужем</td>\n",
       "      <td>0</td>\n",
       "      <td>F</td>\n",
       "      <td>компаньон</td>\n",
       "      <td>0</td>\n",
       "      <td>112 999</td>\n",
       "      <td>покупка недвижимости</td>\n",
       "    </tr>\n",
       "    <tr>\n",
       "      <th>1074</th>\n",
       "      <td>20</td>\n",
       "      <td>-3 310.41</td>\n",
       "      <td>56</td>\n",
       "      <td>среднее</td>\n",
       "      <td>1</td>\n",
       "      <td>женат / замужем</td>\n",
       "      <td>0</td>\n",
       "      <td>F</td>\n",
       "      <td>сотрудник</td>\n",
       "      <td>1</td>\n",
       "      <td>229 519</td>\n",
       "      <td>получение образования</td>\n",
       "    </tr>\n",
       "    <tr>\n",
       "      <th>2510</th>\n",
       "      <td>20</td>\n",
       "      <td>-2 714.16</td>\n",
       "      <td>59</td>\n",
       "      <td>высшее</td>\n",
       "      <td>0</td>\n",
       "      <td>вдовец / вдова</td>\n",
       "      <td>2</td>\n",
       "      <td>F</td>\n",
       "      <td>сотрудник</td>\n",
       "      <td>0</td>\n",
       "      <td>264 475</td>\n",
       "      <td>операции с коммерческой недвижимостью</td>\n",
       "    </tr>\n",
       "    <tr>\n",
       "      <th>2941</th>\n",
       "      <td>20</td>\n",
       "      <td>-2 161.59</td>\n",
       "      <td>0</td>\n",
       "      <td>среднее</td>\n",
       "      <td>1</td>\n",
       "      <td>женат / замужем</td>\n",
       "      <td>0</td>\n",
       "      <td>F</td>\n",
       "      <td>сотрудник</td>\n",
       "      <td>0</td>\n",
       "      <td>199 740</td>\n",
       "      <td>на покупку автомобиля</td>\n",
       "    </tr>\n",
       "    <tr>\n",
       "      <th>...</th>\n",
       "      <td>...</td>\n",
       "      <td>...</td>\n",
       "      <td>...</td>\n",
       "      <td>...</td>\n",
       "      <td>...</td>\n",
       "      <td>...</td>\n",
       "      <td>...</td>\n",
       "      <td>...</td>\n",
       "      <td>...</td>\n",
       "      <td>...</td>\n",
       "      <td>...</td>\n",
       "      <td>...</td>\n",
       "    </tr>\n",
       "    <tr>\n",
       "      <th>21008</th>\n",
       "      <td>20</td>\n",
       "      <td>-1 240.26</td>\n",
       "      <td>40</td>\n",
       "      <td>среднее</td>\n",
       "      <td>1</td>\n",
       "      <td>женат / замужем</td>\n",
       "      <td>0</td>\n",
       "      <td>F</td>\n",
       "      <td>сотрудник</td>\n",
       "      <td>1</td>\n",
       "      <td>133 524</td>\n",
       "      <td>свой автомобиль</td>\n",
       "    </tr>\n",
       "    <tr>\n",
       "      <th>21325</th>\n",
       "      <td>20</td>\n",
       "      <td>-601.175</td>\n",
       "      <td>37</td>\n",
       "      <td>среднее</td>\n",
       "      <td>1</td>\n",
       "      <td>женат / замужем</td>\n",
       "      <td>0</td>\n",
       "      <td>F</td>\n",
       "      <td>компаньон</td>\n",
       "      <td>0</td>\n",
       "      <td>102 986</td>\n",
       "      <td>профильное образование</td>\n",
       "    </tr>\n",
       "    <tr>\n",
       "      <th>21390</th>\n",
       "      <td>20</td>\n",
       "      <td>nan</td>\n",
       "      <td>53</td>\n",
       "      <td>среднее</td>\n",
       "      <td>1</td>\n",
       "      <td>женат / замужем</td>\n",
       "      <td>0</td>\n",
       "      <td>M</td>\n",
       "      <td>компаньон</td>\n",
       "      <td>0</td>\n",
       "      <td>nan</td>\n",
       "      <td>покупка жилой недвижимости</td>\n",
       "    </tr>\n",
       "    <tr>\n",
       "      <th>21404</th>\n",
       "      <td>20</td>\n",
       "      <td>-494.788</td>\n",
       "      <td>52</td>\n",
       "      <td>среднее</td>\n",
       "      <td>1</td>\n",
       "      <td>женат / замужем</td>\n",
       "      <td>0</td>\n",
       "      <td>M</td>\n",
       "      <td>компаньон</td>\n",
       "      <td>0</td>\n",
       "      <td>156 630</td>\n",
       "      <td>операции со своей недвижимостью</td>\n",
       "    </tr>\n",
       "    <tr>\n",
       "      <th>21491</th>\n",
       "      <td>20</td>\n",
       "      <td>-173.954</td>\n",
       "      <td>27</td>\n",
       "      <td>среднее</td>\n",
       "      <td>1</td>\n",
       "      <td>женат / замужем</td>\n",
       "      <td>0</td>\n",
       "      <td>F</td>\n",
       "      <td>сотрудник</td>\n",
       "      <td>0</td>\n",
       "      <td>155 521</td>\n",
       "      <td>на покупку подержанного автомобиля</td>\n",
       "    </tr>\n",
       "  </tbody>\n",
       "</table>\n",
       "<p>76 rows × 12 columns</p>\n",
       "</div>"
      ],
      "text/plain": [
       "       children  days_employed  dob_years education  education_id  \\\n",
       "606          20       -880.221         21   среднее             1   \n",
       "720          20       -855.596         44   среднее             1   \n",
       "1074         20      -3 310.41         56   среднее             1   \n",
       "2510         20      -2 714.16         59    высшее             0   \n",
       "2941         20      -2 161.59          0   среднее             1   \n",
       "...         ...            ...        ...       ...           ...   \n",
       "21008        20      -1 240.26         40   среднее             1   \n",
       "21325        20       -601.175         37   среднее             1   \n",
       "21390        20            nan         53   среднее             1   \n",
       "21404        20       -494.788         52   среднее             1   \n",
       "21491        20       -173.954         27   среднее             1   \n",
       "\n",
       "         family_status  family_status_id gender income_type  debt  \\\n",
       "606    женат / замужем                 0      M   компаньон     0   \n",
       "720    женат / замужем                 0      F   компаньон     0   \n",
       "1074   женат / замужем                 0      F   сотрудник     1   \n",
       "2510    вдовец / вдова                 2      F   сотрудник     0   \n",
       "2941   женат / замужем                 0      F   сотрудник     0   \n",
       "...                ...               ...    ...         ...   ...   \n",
       "21008  женат / замужем                 0      F   сотрудник     1   \n",
       "21325  женат / замужем                 0      F   компаньон     0   \n",
       "21390  женат / замужем                 0      M   компаньон     0   \n",
       "21404  женат / замужем                 0      M   компаньон     0   \n",
       "21491  женат / замужем                 0      F   сотрудник     0   \n",
       "\n",
       "       total_income                                purpose  \n",
       "606         145 335                          покупка жилья  \n",
       "720         112 999                   покупка недвижимости  \n",
       "1074        229 519                  получение образования  \n",
       "2510        264 475  операции с коммерческой недвижимостью  \n",
       "2941        199 740                  на покупку автомобиля  \n",
       "...             ...                                    ...  \n",
       "21008       133 524                        свой автомобиль  \n",
       "21325       102 986                 профильное образование  \n",
       "21390           nan             покупка жилой недвижимости  \n",
       "21404       156 630        операции со своей недвижимостью  \n",
       "21491       155 521     на покупку подержанного автомобиля  \n",
       "\n",
       "[76 rows x 12 columns]"
      ]
     },
     "execution_count": 105,
     "metadata": {},
     "output_type": "execute_result"
    }
   ],
   "source": [
    "data[data[\"children\"] == 20]"
   ]
  },
  {
   "cell_type": "markdown",
   "metadata": {},
   "source": [
    "Данные записи похожи на ошибку при вводе количества детей, т.к. на цифровой клавиатуре цифры \"2\" и \"0\" находятся рядом, и возможно оператор при вводе нажимал сразу две клавиши. На ошибку при вводе указывает и тот факт, что значений *20* больше, чем значений *4* и *5* вместе взятых. Заменим значение \"20\" на \"2\"."
   ]
  },
  {
   "cell_type": "code",
   "execution_count": 106,
   "metadata": {},
   "outputs": [
    {
     "data": {
      "text/plain": [
       " 0    14149\n",
       " 1     4818\n",
       " 2     2131\n",
       " 3      330\n",
       "-1       47\n",
       " 4       41\n",
       " 5        9\n",
       "Name: children, dtype: int64"
      ]
     },
     "execution_count": 106,
     "metadata": {},
     "output_type": "execute_result"
    }
   ],
   "source": [
    "data[\"children\"].replace(20, 2, inplace=True)\n",
    "data[\"children\"].value_counts(dropna=False)"
   ]
  },
  {
   "cell_type": "markdown",
   "metadata": {},
   "source": [
    "`dob_years`, некорректное значение *0*"
   ]
  },
  {
   "cell_type": "code",
   "execution_count": 107,
   "metadata": {
    "scrolled": true
   },
   "outputs": [
    {
     "data": {
      "text/plain": [
       "children             4\n",
       "days_employed       91\n",
       "dob_years            1\n",
       "education            3\n",
       "education_id         3\n",
       "family_status        5\n",
       "family_status_id     5\n",
       "gender               2\n",
       "income_type          4\n",
       "debt                 2\n",
       "total_income        91\n",
       "purpose             35\n",
       "dtype: int64"
      ]
     },
     "execution_count": 107,
     "metadata": {},
     "output_type": "execute_result"
    }
   ],
   "source": [
    "data[data[\"dob_years\"] == 0].nunique()"
   ]
  },
  {
   "cell_type": "code",
   "execution_count": 108,
   "metadata": {
    "scrolled": true
   },
   "outputs": [
    {
     "data": {
      "text/html": [
       "<div>\n",
       "<style scoped>\n",
       "    .dataframe tbody tr th:only-of-type {\n",
       "        vertical-align: middle;\n",
       "    }\n",
       "\n",
       "    .dataframe tbody tr th {\n",
       "        vertical-align: top;\n",
       "    }\n",
       "\n",
       "    .dataframe thead th {\n",
       "        text-align: right;\n",
       "    }\n",
       "</style>\n",
       "<table border=\"1\" class=\"dataframe\">\n",
       "  <thead>\n",
       "    <tr style=\"text-align: right;\">\n",
       "      <th></th>\n",
       "      <th>children</th>\n",
       "      <th>days_employed</th>\n",
       "      <th>dob_years</th>\n",
       "      <th>education</th>\n",
       "      <th>education_id</th>\n",
       "      <th>family_status</th>\n",
       "      <th>family_status_id</th>\n",
       "      <th>gender</th>\n",
       "      <th>income_type</th>\n",
       "      <th>debt</th>\n",
       "      <th>total_income</th>\n",
       "      <th>purpose</th>\n",
       "    </tr>\n",
       "  </thead>\n",
       "  <tbody>\n",
       "    <tr>\n",
       "      <th>15140</th>\n",
       "      <td>2</td>\n",
       "      <td>-4 294.22</td>\n",
       "      <td>0</td>\n",
       "      <td>среднее</td>\n",
       "      <td>1</td>\n",
       "      <td>женат / замужем</td>\n",
       "      <td>0</td>\n",
       "      <td>F</td>\n",
       "      <td>сотрудник</td>\n",
       "      <td>0</td>\n",
       "      <td>81 027.6</td>\n",
       "      <td>покупка жилья для сдачи</td>\n",
       "    </tr>\n",
       "    <tr>\n",
       "      <th>2469</th>\n",
       "      <td>0</td>\n",
       "      <td>-794.876</td>\n",
       "      <td>0</td>\n",
       "      <td>среднее</td>\n",
       "      <td>1</td>\n",
       "      <td>гражданский брак</td>\n",
       "      <td>1</td>\n",
       "      <td>F</td>\n",
       "      <td>сотрудник</td>\n",
       "      <td>0</td>\n",
       "      <td>95 967.7</td>\n",
       "      <td>сыграть свадьбу</td>\n",
       "    </tr>\n",
       "    <tr>\n",
       "      <th>13968</th>\n",
       "      <td>1</td>\n",
       "      <td>-1 018.53</td>\n",
       "      <td>0</td>\n",
       "      <td>среднее</td>\n",
       "      <td>1</td>\n",
       "      <td>женат / замужем</td>\n",
       "      <td>0</td>\n",
       "      <td>F</td>\n",
       "      <td>сотрудник</td>\n",
       "      <td>1</td>\n",
       "      <td>155 342</td>\n",
       "      <td>свой автомобиль</td>\n",
       "    </tr>\n",
       "    <tr>\n",
       "      <th>12297</th>\n",
       "      <td>0</td>\n",
       "      <td>-1 572.05</td>\n",
       "      <td>0</td>\n",
       "      <td>среднее</td>\n",
       "      <td>1</td>\n",
       "      <td>женат / замужем</td>\n",
       "      <td>0</td>\n",
       "      <td>F</td>\n",
       "      <td>сотрудник</td>\n",
       "      <td>0</td>\n",
       "      <td>81 994.5</td>\n",
       "      <td>получение дополнительного образования</td>\n",
       "    </tr>\n",
       "    <tr>\n",
       "      <th>14514</th>\n",
       "      <td>0</td>\n",
       "      <td>400 992</td>\n",
       "      <td>0</td>\n",
       "      <td>среднее</td>\n",
       "      <td>1</td>\n",
       "      <td>вдовец / вдова</td>\n",
       "      <td>2</td>\n",
       "      <td>F</td>\n",
       "      <td>пенсионер</td>\n",
       "      <td>0</td>\n",
       "      <td>87 215.4</td>\n",
       "      <td>заняться высшим образованием</td>\n",
       "    </tr>\n",
       "    <tr>\n",
       "      <th>10163</th>\n",
       "      <td>0</td>\n",
       "      <td>-4 847.11</td>\n",
       "      <td>0</td>\n",
       "      <td>среднее</td>\n",
       "      <td>1</td>\n",
       "      <td>гражданский брак</td>\n",
       "      <td>1</td>\n",
       "      <td>F</td>\n",
       "      <td>госслужащий</td>\n",
       "      <td>0</td>\n",
       "      <td>97 169.7</td>\n",
       "      <td>свадьба</td>\n",
       "    </tr>\n",
       "    <tr>\n",
       "      <th>19116</th>\n",
       "      <td>0</td>\n",
       "      <td>331 559</td>\n",
       "      <td>0</td>\n",
       "      <td>высшее</td>\n",
       "      <td>0</td>\n",
       "      <td>женат / замужем</td>\n",
       "      <td>0</td>\n",
       "      <td>F</td>\n",
       "      <td>пенсионер</td>\n",
       "      <td>0</td>\n",
       "      <td>91 791.9</td>\n",
       "      <td>покупка коммерческой недвижимости</td>\n",
       "    </tr>\n",
       "    <tr>\n",
       "      <th>6831</th>\n",
       "      <td>1</td>\n",
       "      <td>-731.397</td>\n",
       "      <td>0</td>\n",
       "      <td>высшее</td>\n",
       "      <td>0</td>\n",
       "      <td>в разводе</td>\n",
       "      <td>3</td>\n",
       "      <td>F</td>\n",
       "      <td>сотрудник</td>\n",
       "      <td>0</td>\n",
       "      <td>247 541</td>\n",
       "      <td>покупка жилья</td>\n",
       "    </tr>\n",
       "    <tr>\n",
       "      <th>6848</th>\n",
       "      <td>2</td>\n",
       "      <td>-1 146.69</td>\n",
       "      <td>0</td>\n",
       "      <td>среднее</td>\n",
       "      <td>1</td>\n",
       "      <td>женат / замужем</td>\n",
       "      <td>0</td>\n",
       "      <td>F</td>\n",
       "      <td>сотрудник</td>\n",
       "      <td>0</td>\n",
       "      <td>101 545</td>\n",
       "      <td>приобретение автомобиля</td>\n",
       "    </tr>\n",
       "    <tr>\n",
       "      <th>1386</th>\n",
       "      <td>0</td>\n",
       "      <td>-5 043.22</td>\n",
       "      <td>0</td>\n",
       "      <td>высшее</td>\n",
       "      <td>0</td>\n",
       "      <td>женат / замужем</td>\n",
       "      <td>0</td>\n",
       "      <td>M</td>\n",
       "      <td>госслужащий</td>\n",
       "      <td>0</td>\n",
       "      <td>240 524</td>\n",
       "      <td>сделка с автомобилем</td>\n",
       "    </tr>\n",
       "  </tbody>\n",
       "</table>\n",
       "</div>"
      ],
      "text/plain": [
       "       children  days_employed  dob_years education  education_id  \\\n",
       "15140         2      -4 294.22          0   среднее             1   \n",
       "2469          0       -794.876          0   среднее             1   \n",
       "13968         1      -1 018.53          0   среднее             1   \n",
       "12297         0      -1 572.05          0   среднее             1   \n",
       "14514         0        400 992          0   среднее             1   \n",
       "10163         0      -4 847.11          0   среднее             1   \n",
       "19116         0        331 559          0    высшее             0   \n",
       "6831          1       -731.397          0    высшее             0   \n",
       "6848          2      -1 146.69          0   среднее             1   \n",
       "1386          0      -5 043.22          0    высшее             0   \n",
       "\n",
       "          family_status  family_status_id gender  income_type  debt  \\\n",
       "15140   женат / замужем                 0      F    сотрудник     0   \n",
       "2469   гражданский брак                 1      F    сотрудник     0   \n",
       "13968   женат / замужем                 0      F    сотрудник     1   \n",
       "12297   женат / замужем                 0      F    сотрудник     0   \n",
       "14514    вдовец / вдова                 2      F    пенсионер     0   \n",
       "10163  гражданский брак                 1      F  госслужащий     0   \n",
       "19116   женат / замужем                 0      F    пенсионер     0   \n",
       "6831          в разводе                 3      F    сотрудник     0   \n",
       "6848    женат / замужем                 0      F    сотрудник     0   \n",
       "1386    женат / замужем                 0      M  госслужащий     0   \n",
       "\n",
       "       total_income                                purpose  \n",
       "15140      81 027.6                покупка жилья для сдачи  \n",
       "2469       95 967.7                        сыграть свадьбу  \n",
       "13968       155 342                        свой автомобиль  \n",
       "12297      81 994.5  получение дополнительного образования  \n",
       "14514      87 215.4           заняться высшим образованием  \n",
       "10163      97 169.7                                свадьба  \n",
       "19116      91 791.9      покупка коммерческой недвижимости  \n",
       "6831        247 541                          покупка жилья  \n",
       "6848        101 545                приобретение автомобиля  \n",
       "1386        240 524                   сделка с автомобилем  "
      ]
     },
     "execution_count": 108,
     "metadata": {},
     "output_type": "execute_result"
    }
   ],
   "source": [
    "data[data[\"dob_years\"] == 0].sample(10)"
   ]
  },
  {
   "cell_type": "markdown",
   "metadata": {},
   "source": [
    "Значение *0* в поле `dob_years` скорее всего описывает отказ человека сообщить свой возраст, т.к. остальные данные различны и информативны.  \n",
    "Удалять, или что-либо изменять в данных запясях не будем, т.к. данная колонка не исползуется в последующем анализе."
   ]
  },
  {
   "cell_type": "markdown",
   "metadata": {},
   "source": [
    "<a id='step2_cast_types'></a>\n",
    "## 2.3. Замена типа данных"
   ]
  },
  {
   "cell_type": "markdown",
   "metadata": {},
   "source": [
    "Замену типа данных возможно осуществить в колонка `days_employed` и `debt`.  \n",
    "В `days_employed` возможно изменить тип на целочисленный, так как количество дней стажа должно быть целым. Однако, не будем производить данную замену, т.к. информация из данной колонки в дальнейшем анализе не участвует, но она содержит пропуски значений, и, чтобы преобразовать к целочисленному типу, необходимо заполнить пропуски, чего мы делать не будем."
   ]
  },
  {
   "cell_type": "markdown",
   "metadata": {},
   "source": [
    "в `debt` изменим тип на логический."
   ]
  },
  {
   "cell_type": "code",
   "execution_count": 109,
   "metadata": {},
   "outputs": [],
   "source": [
    "data['debt'] = data['debt'].astype(\"?\")"
   ]
  },
  {
   "cell_type": "code",
   "execution_count": 110,
   "metadata": {},
   "outputs": [
    {
     "data": {
      "text/plain": [
       "0        False\n",
       "1        False\n",
       "2        False\n",
       "3        False\n",
       "4        False\n",
       "         ...  \n",
       "21520    False\n",
       "21521    False\n",
       "21522     True\n",
       "21523     True\n",
       "21524    False\n",
       "Name: debt, Length: 21525, dtype: bool"
      ]
     },
     "execution_count": 110,
     "metadata": {},
     "output_type": "execute_result"
    }
   ],
   "source": [
    "data['debt']"
   ]
  },
  {
   "cell_type": "markdown",
   "metadata": {},
   "source": [
    "<a id='step2_drop_duplicates'></a>\n",
    "## 2.4. Обработка дубликатов"
   ]
  },
  {
   "cell_type": "markdown",
   "metadata": {},
   "source": [
    "Попробуем найти полные дубликаты (изначально удалив строки с пропусками, иначе поиск дубликатов будет некорректным из-за значений NaN)"
   ]
  },
  {
   "cell_type": "code",
   "execution_count": 111,
   "metadata": {},
   "outputs": [
    {
     "data": {
      "text/plain": [
       "0"
      ]
     },
     "execution_count": 111,
     "metadata": {},
     "output_type": "execute_result"
    }
   ],
   "source": [
    "data.dropna().duplicated().sum()"
   ]
  },
  {
   "cell_type": "markdown",
   "metadata": {},
   "source": [
    "Получили, что полность дублирующих друг друга строк нет.  \n",
    "Однако, выше было произведено преобразования всех строковых колонок к нижнему регистру, без этого этих колонках были одинаковые значения в разном регистре.  \n",
    "Отдельно рассмотрим колонку `purpose`."
   ]
  },
  {
   "cell_type": "code",
   "execution_count": 112,
   "metadata": {
    "scrolled": true
   },
   "outputs": [
    {
     "data": {
      "text/plain": [
       "свадьба                                   797\n",
       "на проведение свадьбы                     777\n",
       "сыграть свадьбу                           774\n",
       "операции с недвижимостью                  676\n",
       "покупка коммерческой недвижимости         664\n",
       "покупка жилья для сдачи                   653\n",
       "операции с жильем                         653\n",
       "операции с коммерческой недвижимостью     651\n",
       "покупка жилья                             647\n",
       "жилье                                     647\n",
       "покупка жилья для семьи                   641\n",
       "строительство собственной недвижимости    635\n",
       "недвижимость                              634\n",
       "операции со своей недвижимостью           630\n",
       "строительство жилой недвижимости          626\n",
       "покупка недвижимости                      624\n",
       "покупка своего жилья                      620\n",
       "строительство недвижимости                620\n",
       "ремонт жилью                              612\n",
       "покупка жилой недвижимости                607\n",
       "на покупку своего автомобиля              505\n",
       "заняться высшим образованием              496\n",
       "автомобиль                                495\n",
       "сделка с подержанным автомобилем          489\n",
       "свой автомобиль                           480\n",
       "на покупку подержанного автомобиля        479\n",
       "автомобили                                478\n",
       "на покупку автомобиля                     472\n",
       "приобретение автомобиля                   462\n",
       "дополнительное образование                462\n",
       "сделка с автомобилем                      455\n",
       "высшее образование                        453\n",
       "образование                               447\n",
       "получение дополнительного образования     447\n",
       "получение образования                     443\n",
       "профильное образование                    436\n",
       "получение высшего образования             426\n",
       "заняться образованием                     412\n",
       "Name: purpose, dtype: int64"
      ]
     },
     "execution_count": 112,
     "metadata": {},
     "output_type": "execute_result"
    }
   ],
   "source": [
    "data[\"purpose\"].value_counts()"
   ]
  },
  {
   "cell_type": "markdown",
   "metadata": {},
   "source": [
    "Видим, что некоторые записи повторяют одну мысль, но имет различный словарный состав. Поэтому произведем лемматизацию данного признака, и с помощью категоризации, распределим все записи по категориям."
   ]
  },
  {
   "cell_type": "markdown",
   "metadata": {},
   "source": [
    "Категоризация `purpose`."
   ]
  },
  {
   "cell_type": "code",
   "execution_count": 113,
   "metadata": {},
   "outputs": [],
   "source": [
    "# Категории целей\n",
    "# Ключ - название категории, значение - ключевые слова для данной категории\n",
    "category_purpose = {\"свадьба\":{\"свадьба\"}, \"недвижимость\":{\"недвижимость\", \"жилье\"}, \n",
    "                   \"автомобиль\":{\"автомобиль\"}, \"образование\":{\"образование\"}}"
   ]
  },
  {
   "cell_type": "markdown",
   "metadata": {},
   "source": [
    "Лемматизация `purpose`."
   ]
  },
  {
   "cell_type": "code",
   "execution_count": 114,
   "metadata": {},
   "outputs": [],
   "source": [
    "m = Mystem()"
   ]
  },
  {
   "cell_type": "code",
   "execution_count": 83,
   "metadata": {},
   "outputs": [],
   "source": [
    "# Функция категоризации purpose\n",
    "def cat_purpose(value):\n",
    "    lemm_value = set(m.lemmatize(value))\n",
    "    for cat_name, cat in category_purpose.items():\n",
    "        resp =  cat & lemm_value\n",
    "        if resp:\n",
    "            break\n",
    "    else: \n",
    "        return pd.np.nan\n",
    "    return cat_name"
   ]
  },
  {
   "cell_type": "code",
   "execution_count": null,
   "metadata": {
    "scrolled": true
   },
   "outputs": [],
   "source": [
    "data.insert(12, column=\"purpose_category\", value=data[\"purpose\"].apply(cat_purpose))"
   ]
  },
  {
   "cell_type": "code",
   "execution_count": 600,
   "metadata": {
    "scrolled": true
   },
   "outputs": [
    {
     "data": {
      "text/plain": [
       "purpose_category  purpose                               \n",
       "автомобиль        на покупку своего автомобиля              505\n",
       "                  автомобиль                                495\n",
       "                  сделка с подержанным автомобилем          489\n",
       "                  свой автомобиль                           480\n",
       "                  на покупку подержанного автомобиля        479\n",
       "                  автомобили                                478\n",
       "                  на покупку автомобиля                     472\n",
       "                  приобретение автомобиля                   462\n",
       "                  сделка с автомобилем                      455\n",
       "недвижимость      операции с недвижимостью                  676\n",
       "                  покупка коммерческой недвижимости         664\n",
       "                  операции с жильем                         653\n",
       "                  покупка жилья для сдачи                   653\n",
       "                  операции с коммерческой недвижимостью     651\n",
       "                  жилье                                     647\n",
       "                  покупка жилья                             647\n",
       "                  покупка жилья для семьи                   641\n",
       "                  строительство собственной недвижимости    635\n",
       "                  недвижимость                              634\n",
       "                  операции со своей недвижимостью           630\n",
       "                  строительство жилой недвижимости          626\n",
       "                  покупка недвижимости                      624\n",
       "                  покупка своего жилья                      620\n",
       "                  строительство недвижимости                620\n",
       "                  ремонт жилью                              612\n",
       "                  покупка жилой недвижимости                607\n",
       "образование       заняться высшим образованием              496\n",
       "                  дополнительное образование                462\n",
       "                  высшее образование                        453\n",
       "                  образование                               447\n",
       "                  получение дополнительного образования     447\n",
       "                  получение образования                     443\n",
       "                  профильное образование                    436\n",
       "                  получение высшего образования             426\n",
       "                  заняться образованием                     412\n",
       "свадьба           свадьба                                   797\n",
       "                  на проведение свадьбы                     777\n",
       "                  сыграть свадьбу                           774\n",
       "Name: purpose, dtype: int64"
      ]
     },
     "execution_count": 600,
     "metadata": {},
     "output_type": "execute_result"
    }
   ],
   "source": [
    "# Взглянем на данные\n",
    "data[[\"purpose\", \"purpose_category\"]].groupby(\"purpose_category\")[\"purpose\"].value_counts(dropna=False)"
   ]
  },
  {
   "cell_type": "code",
   "execution_count": 601,
   "metadata": {
    "scrolled": true
   },
   "outputs": [
    {
     "name": "stdout",
     "output_type": "stream",
     "text": [
      "purpose_category\n",
      "автомобиль       4315\n",
      "недвижимость    10840\n",
      "образование      4022\n",
      "свадьба          2348\n",
      "Name: purpose, dtype: int64\n",
      "Всего: 21525\n"
     ]
    }
   ],
   "source": [
    "print(data[[\"purpose\", \"purpose_category\"]].groupby(\"purpose_category\")[\"purpose\"].count())\n",
    "print(\"Всего:\", data[[\"purpose\", \"purpose_category\"]].groupby(\"purpose_category\")[\"purpose\"].count().sum())"
   ]
  },
  {
   "cell_type": "markdown",
   "metadata": {},
   "source": [
    "Категоризация прошла успешно, пропущенных значений нет, все цели из колонки `purpose` распределены по категориям."
   ]
  },
  {
   "cell_type": "markdown",
   "metadata": {},
   "source": [
    "<a id='step2_category_data'></a>\n",
    "## 2.5. Категоризация данных"
   ]
  },
  {
   "cell_type": "markdown",
   "metadata": {},
   "source": [
    "- [x]  По наличию детей - **есть дети\\нет детей**;\n",
    "- [x]  По семейному положению - **есть супруг\\супруга или нет**;\n",
    "- [x]  По уровню образования - **есть высшее\\нет высшего**;\n",
    "- [x]  По доходу - **на 4 категории в соответствие с процентилями 25,50,75,100**;\n",
    "- [x]  По целям (выполнена выше);"
   ]
  },
  {
   "cell_type": "markdown",
   "metadata": {},
   "source": [
    "*Категоризация по наличию детей:*"
   ]
  },
  {
   "cell_type": "code",
   "execution_count": 602,
   "metadata": {},
   "outputs": [],
   "source": [
    "cat_children = [\"нет детей\", \"есть дети\"]"
   ]
  },
  {
   "cell_type": "code",
   "execution_count": 603,
   "metadata": {},
   "outputs": [],
   "source": [
    "# Функция категоризации данных о количестве детей\n",
    "def cat_children(num_children):\n",
    "    if num_children == 0:\n",
    "        return cat_children[0]\n",
    "    elif num_children > 0:\n",
    "        return cat_children[1]\n",
    "    else:\n",
    "        return pd.np.nan"
   ]
  },
  {
   "cell_type": "code",
   "execution_count": 604,
   "metadata": {},
   "outputs": [],
   "source": [
    "data.insert(1, column=\"children_category\", value=data[\"children\"].apply(cat_children))"
   ]
  },
  {
   "cell_type": "code",
   "execution_count": 605,
   "metadata": {},
   "outputs": [
    {
     "data": {
      "text/plain": [
       "нет детей    14149\n",
       "есть дети     7329\n",
       "NaN             47\n",
       "Name: children_category, dtype: int64"
      ]
     },
     "execution_count": 605,
     "metadata": {},
     "output_type": "execute_result"
    }
   ],
   "source": [
    "data[\"children_category\"].value_counts(dropna=False)"
   ]
  },
  {
   "cell_type": "markdown",
   "metadata": {},
   "source": [
    "*Категоризация по семейному положению:*"
   ]
  },
  {
   "cell_type": "code",
   "execution_count": 606,
   "metadata": {},
   "outputs": [],
   "source": [
    "cat_family = [\"в браке\", \"холост\"]"
   ]
  },
  {
   "cell_type": "code",
   "execution_count": 607,
   "metadata": {},
   "outputs": [],
   "source": [
    "def cat_family(family_id):\n",
    "    if family_id in [0,1]:\n",
    "        return cat_family[0]\n",
    "    elif family_id in [2,3,4]:\n",
    "        return cat_family[1]\n",
    "    else:\n",
    "        return pd.np.nan"
   ]
  },
  {
   "cell_type": "code",
   "execution_count": 608,
   "metadata": {},
   "outputs": [],
   "source": [
    "data.insert(8, column=\"family_status_category\", value=data[\"family_status_id\"].apply(cat_family))"
   ]
  },
  {
   "cell_type": "code",
   "execution_count": 609,
   "metadata": {},
   "outputs": [
    {
     "data": {
      "text/plain": [
       "в браке    16557\n",
       "холост      4968\n",
       "Name: family_status_category, dtype: int64"
      ]
     },
     "execution_count": 609,
     "metadata": {},
     "output_type": "execute_result"
    }
   ],
   "source": [
    "data[\"family_status_category\"].value_counts(dropna=False)"
   ]
  },
  {
   "cell_type": "markdown",
   "metadata": {},
   "source": [
    "*Категоризация по уровню образования*"
   ]
  },
  {
   "cell_type": "code",
   "execution_count": 610,
   "metadata": {},
   "outputs": [
    {
     "data": {
      "text/plain": [
       "среднее                15233\n",
       "высшее                  5260\n",
       "неоконченное высшее      744\n",
       "начальное                282\n",
       "ученая степень             6\n",
       "Name: education, dtype: int64"
      ]
     },
     "execution_count": 610,
     "metadata": {},
     "output_type": "execute_result"
    }
   ],
   "source": [
    "data[\"education\"].value_counts(dropna=False)"
   ]
  },
  {
   "cell_type": "code",
   "execution_count": 611,
   "metadata": {},
   "outputs": [],
   "source": [
    "cat_education= [\"есть высшее\", \"нет высшего\"]"
   ]
  },
  {
   "cell_type": "code",
   "execution_count": 612,
   "metadata": {},
   "outputs": [],
   "source": [
    "def cat_education(education_id):\n",
    "    if education_id in [0, 4]:\n",
    "        return cat_education[0]\n",
    "    elif education_id in [1,2,3]:\n",
    "        return cat_education[1]\n",
    "    else:\n",
    "        return pd.np.nan"
   ]
  },
  {
   "cell_type": "code",
   "execution_count": 613,
   "metadata": {},
   "outputs": [],
   "source": [
    "data.insert(6, column=\"education_category\", value=data[\"education_id\"].apply(cat_education))"
   ]
  },
  {
   "cell_type": "code",
   "execution_count": 614,
   "metadata": {},
   "outputs": [
    {
     "data": {
      "text/plain": [
       "education_category  education          \n",
       "есть высшее         высшее                  5260\n",
       "                    ученая степень             6\n",
       "нет высшего         среднее                15233\n",
       "                    неоконченное высшее      744\n",
       "                    начальное                282\n",
       "Name: education, dtype: int64"
      ]
     },
     "execution_count": 614,
     "metadata": {},
     "output_type": "execute_result"
    }
   ],
   "source": [
    "data[[\"education\", \"education_category\"]].groupby(\"education_category\")[\"education\"].value_counts(dropna=False)"
   ]
  },
  {
   "cell_type": "markdown",
   "metadata": {},
   "source": [
    "*Категоризация по уровню дохода, будем её производить по процентилям: 25, 50, 75*"
   ]
  },
  {
   "cell_type": "code",
   "execution_count": 615,
   "metadata": {},
   "outputs": [],
   "source": [
    "cat_income = {\"низкий\": data[\"total_income\"].quantile(0.25),\n",
    "             \"средний\": data[\"total_income\"].quantile(0.50), \n",
    "             \"выше среднего\": data[\"total_income\"].quantile(0.75),\n",
    "             \"высокий\": data[\"total_income\"].max()}\n"
   ]
  },
  {
   "cell_type": "code",
   "execution_count": 616,
   "metadata": {},
   "outputs": [],
   "source": [
    "def cat_income(value):\n",
    "    for Cat, Val in cat_income.items():\n",
    "        if value <= Val: break\n",
    "    else:\n",
    "        return pd.np.nan\n",
    "    return Cat"
   ]
  },
  {
   "cell_type": "code",
   "execution_count": 617,
   "metadata": {},
   "outputs": [],
   "source": [
    "data.insert(14, column=\"total_income_category\", value=data[\"total_income\"].apply(cat_income))"
   ]
  },
  {
   "cell_type": "code",
   "execution_count": 618,
   "metadata": {},
   "outputs": [
    {
     "data": {
      "text/plain": [
       "низкий           4838\n",
       "средний          4838\n",
       "высокий          4838\n",
       "выше среднего    4837\n",
       "NaN              2174\n",
       "Name: total_income_category, dtype: int64"
      ]
     },
     "execution_count": 618,
     "metadata": {},
     "output_type": "execute_result"
    }
   ],
   "source": [
    "data[\"total_income_category\"].value_counts(dropna=False)"
   ]
  },
  {
   "cell_type": "markdown",
   "metadata": {},
   "source": [
    "### Вывод"
   ]
  },
  {
   "cell_type": "markdown",
   "metadata": {},
   "source": [
    "Провели категоризацию интересующих нас данных.  \n",
    "Удалось распределить большое количество записей в исходных данных на несколько категорий, что позволит сильно упростить нахождение ответов на поставленные вопросы."
   ]
  },
  {
   "cell_type": "markdown",
   "metadata": {},
   "source": [
    "<a id='step3_answer_to_questions'></a>\n",
    "# 3. Ответы на вопросы"
   ]
  },
  {
   "cell_type": "markdown",
   "metadata": {},
   "source": [
    "<a id='step3_question_1'></a>\n",
    "## 3.1 Есть ли зависимость между наличием детей и возвратом кредита в срок?"
   ]
  },
  {
   "cell_type": "markdown",
   "metadata": {},
   "source": [
    "Создадим набор данных для ответа на данный вопрос:"
   ]
  },
  {
   "cell_type": "code",
   "execution_count": 619,
   "metadata": {
    "scrolled": true
   },
   "outputs": [],
   "source": [
    "data_of_children = data.loc[data[\"children\"] != -1, [\"children\", \"children_category\", \"debt\"]].copy()"
   ]
  },
  {
   "cell_type": "code",
   "execution_count": 620,
   "metadata": {},
   "outputs": [
    {
     "data": {
      "text/plain": [
       "0    14149\n",
       "1     4818\n",
       "2     2131\n",
       "3      330\n",
       "4       41\n",
       "5        9\n",
       "Name: children, dtype: int64"
      ]
     },
     "execution_count": 620,
     "metadata": {},
     "output_type": "execute_result"
    }
   ],
   "source": [
    "data_of_children[\"children\"].value_counts(dropna=False)"
   ]
  },
  {
   "cell_type": "code",
   "execution_count": 621,
   "metadata": {},
   "outputs": [
    {
     "data": {
      "text/plain": [
       "False    19738\n",
       "True      1740\n",
       "Name: debt, dtype: int64"
      ]
     },
     "execution_count": 621,
     "metadata": {},
     "output_type": "execute_result"
    }
   ],
   "source": [
    "data_of_children[\"debt\"].value_counts(dropna=False)"
   ]
  },
  {
   "cell_type": "markdown",
   "metadata": {},
   "source": [
    "Данные в таблице корректные, можно производить анализ"
   ]
  },
  {
   "cell_type": "markdown",
   "metadata": {},
   "source": [
    "Сгруппируем данные по категориям наличия\\отсутствия детей"
   ]
  },
  {
   "cell_type": "code",
   "execution_count": 622,
   "metadata": {},
   "outputs": [
    {
     "data": {
      "text/plain": [
       "children_category  children\n",
       "есть дети          1            4818\n",
       "                   2            2131\n",
       "                   3             330\n",
       "                   4              41\n",
       "                   5               9\n",
       "нет детей          0           14149\n",
       "Name: children, dtype: int64"
      ]
     },
     "execution_count": 622,
     "metadata": {},
     "output_type": "execute_result"
    }
   ],
   "source": [
    "group_children = data_of_children.groupby(\"children_category\")\n",
    "group_children[\"children\"].value_counts(dropna=False)"
   ]
  },
  {
   "cell_type": "markdown",
   "metadata": {},
   "source": [
    "Найдем вероятноть *не возврата* задолженности по кредиту:"
   ]
  },
  {
   "cell_type": "code",
   "execution_count": 623,
   "metadata": {},
   "outputs": [
    {
     "data": {
      "text/plain": [
       "children_category\n",
       "есть дети    0.092373\n",
       "нет детей    0.075129\n",
       "Name: debt, dtype: float64"
      ]
     },
     "execution_count": 623,
     "metadata": {},
     "output_type": "execute_result"
    }
   ],
   "source": [
    "group_children[\"debt\"].mean()"
   ]
  },
  {
   "cell_type": "markdown",
   "metadata": {},
   "source": [
    "### Вывод"
   ]
  },
  {
   "cell_type": "markdown",
   "metadata": {},
   "source": [
    "Получили, что те, у кого ***есть дети*** с большей вероятностью имеют задолженность по кредиту."
   ]
  },
  {
   "cell_type": "markdown",
   "metadata": {},
   "source": [
    "<a id='step3_question_2'></a>\n",
    "## 3.2. Есть ли зависимость между семейным положением и возвратом кредита в срок?"
   ]
  },
  {
   "cell_type": "code",
   "execution_count": 624,
   "metadata": {},
   "outputs": [],
   "source": [
    "data_of_family = data.loc[:, [\"family_status\", \"family_status_category\", \"debt\"]].copy()"
   ]
  },
  {
   "cell_type": "markdown",
   "metadata": {},
   "source": [
    "Сгруппируем данные по категориям семейного положения:"
   ]
  },
  {
   "cell_type": "code",
   "execution_count": 625,
   "metadata": {},
   "outputs": [],
   "source": [
    "group_family = data_of_family.groupby(\"family_status_category\")"
   ]
  },
  {
   "cell_type": "code",
   "execution_count": 626,
   "metadata": {},
   "outputs": [
    {
     "data": {
      "text/plain": [
       "family_status_category  family_status        \n",
       "в браке                 женат / замужем          12380\n",
       "                        гражданский брак          4177\n",
       "холост                  не женат / не замужем     2813\n",
       "                        в разводе                 1195\n",
       "                        вдовец / вдова             960\n",
       "Name: family_status, dtype: int64"
      ]
     },
     "execution_count": 626,
     "metadata": {},
     "output_type": "execute_result"
    }
   ],
   "source": [
    "group_family[\"family_status\"].value_counts(dropna=False)"
   ]
  },
  {
   "cell_type": "markdown",
   "metadata": {},
   "source": [
    "Найдем вероятноть *не возврата* задолженности по кредиту:"
   ]
  },
  {
   "cell_type": "code",
   "execution_count": 627,
   "metadata": {},
   "outputs": [
    {
     "data": {
      "text/plain": [
       "family_status_category\n",
       "в браке    0.079664\n",
       "холост     0.084944\n",
       "Name: debt, dtype: float64"
      ]
     },
     "execution_count": 627,
     "metadata": {},
     "output_type": "execute_result"
    }
   ],
   "source": [
    "group_family[\"debt\"].mean()"
   ]
  },
  {
   "cell_type": "markdown",
   "metadata": {},
   "source": [
    "### Вывод"
   ]
  },
  {
   "cell_type": "markdown",
   "metadata": {},
   "source": [
    "Получили, что ***холостые*** люди с большей вероятностью будут иметь задолженность по кредиту."
   ]
  },
  {
   "cell_type": "markdown",
   "metadata": {},
   "source": [
    "<a id='step3_question_3'></a>\n",
    "## 3.3. Есть ли зависимость между уровнем дохода и возвратом кредита в срок?"
   ]
  },
  {
   "cell_type": "markdown",
   "metadata": {},
   "source": [
    "Создадим набор данных:"
   ]
  },
  {
   "cell_type": "code",
   "execution_count": 628,
   "metadata": {},
   "outputs": [],
   "source": [
    "data_of_income = data.loc[data[\"total_income\"].notna(), [\"total_income_category\", \"debt\"]].copy()"
   ]
  },
  {
   "cell_type": "markdown",
   "metadata": {},
   "source": [
    "Сгруппируем по категориям доходов с помощью агрегирующей функции среднего значения:"
   ]
  },
  {
   "cell_type": "code",
   "execution_count": 629,
   "metadata": {},
   "outputs": [
    {
     "data": {
      "text/html": [
       "<div>\n",
       "<style scoped>\n",
       "    .dataframe tbody tr th:only-of-type {\n",
       "        vertical-align: middle;\n",
       "    }\n",
       "\n",
       "    .dataframe tbody tr th {\n",
       "        vertical-align: top;\n",
       "    }\n",
       "\n",
       "    .dataframe thead th {\n",
       "        text-align: right;\n",
       "    }\n",
       "</style>\n",
       "<table border=\"1\" class=\"dataframe\">\n",
       "  <thead>\n",
       "    <tr style=\"text-align: right;\">\n",
       "      <th></th>\n",
       "      <th>debt</th>\n",
       "    </tr>\n",
       "    <tr>\n",
       "      <th>total_income_category</th>\n",
       "      <th></th>\n",
       "    </tr>\n",
       "  </thead>\n",
       "  <tbody>\n",
       "    <tr>\n",
       "      <td>высокий</td>\n",
       "      <td>0.070484</td>\n",
       "    </tr>\n",
       "    <tr>\n",
       "      <td>выше среднего</td>\n",
       "      <td>0.088071</td>\n",
       "    </tr>\n",
       "    <tr>\n",
       "      <td>низкий</td>\n",
       "      <td>0.079165</td>\n",
       "    </tr>\n",
       "    <tr>\n",
       "      <td>средний</td>\n",
       "      <td>0.087019</td>\n",
       "    </tr>\n",
       "  </tbody>\n",
       "</table>\n",
       "</div>"
      ],
      "text/plain": [
       "                           debt\n",
       "total_income_category          \n",
       "высокий                0.070484\n",
       "выше среднего          0.088071\n",
       "низкий                 0.079165\n",
       "средний                0.087019"
      ]
     },
     "execution_count": 629,
     "metadata": {},
     "output_type": "execute_result"
    }
   ],
   "source": [
    "pivot_income = data_of_income.pivot_table(values=\"debt\", index=[\"total_income_category\"],  aggfunc=\"mean\")\n",
    "pivot_income"
   ]
  },
  {
   "cell_type": "markdown",
   "metadata": {},
   "source": [
    "### Вывод"
   ]
  },
  {
   "cell_type": "markdown",
   "metadata": {},
   "source": [
    "Получили, что меньше всего задолженностей у людей с ***высоким*** уровнем дохода, а у людей с доходом ***выше среднего*** чаще других бывают просрочки по платежам. "
   ]
  },
  {
   "cell_type": "markdown",
   "metadata": {},
   "source": [
    "<a id='step3_question_4'></a>\n",
    "## 3.4. Как разные цели кредита влияют на его возврат в срок?"
   ]
  },
  {
   "cell_type": "markdown",
   "metadata": {},
   "source": [
    "Создаем отдельный набор данные, в который входит только интересующая нас информация:"
   ]
  },
  {
   "cell_type": "code",
   "execution_count": 630,
   "metadata": {},
   "outputs": [],
   "source": [
    "purpose_data = data.loc[:, [\"purpose\", \"purpose_category\", \"debt\"]].copy()"
   ]
  },
  {
   "cell_type": "markdown",
   "metadata": {},
   "source": [
    "Создадим сводную таблицу по полученным данным, в качестве агрегирующей функции возьмем среднее значения, это позволит найти вероятность того, что у человека будет задолженность:"
   ]
  },
  {
   "cell_type": "code",
   "execution_count": 631,
   "metadata": {},
   "outputs": [
    {
     "data": {
      "text/html": [
       "<div>\n",
       "<style scoped>\n",
       "    .dataframe tbody tr th:only-of-type {\n",
       "        vertical-align: middle;\n",
       "    }\n",
       "\n",
       "    .dataframe tbody tr th {\n",
       "        vertical-align: top;\n",
       "    }\n",
       "\n",
       "    .dataframe thead th {\n",
       "        text-align: right;\n",
       "    }\n",
       "</style>\n",
       "<table border=\"1\" class=\"dataframe\">\n",
       "  <thead>\n",
       "    <tr style=\"text-align: right;\">\n",
       "      <th></th>\n",
       "      <th>debt</th>\n",
       "    </tr>\n",
       "    <tr>\n",
       "      <th>purpose_category</th>\n",
       "      <th></th>\n",
       "    </tr>\n",
       "  </thead>\n",
       "  <tbody>\n",
       "    <tr>\n",
       "      <td>автомобиль</td>\n",
       "      <td>0.093395</td>\n",
       "    </tr>\n",
       "    <tr>\n",
       "      <td>недвижимость</td>\n",
       "      <td>0.072140</td>\n",
       "    </tr>\n",
       "    <tr>\n",
       "      <td>образование</td>\n",
       "      <td>0.091994</td>\n",
       "    </tr>\n",
       "    <tr>\n",
       "      <td>свадьба</td>\n",
       "      <td>0.079216</td>\n",
       "    </tr>\n",
       "  </tbody>\n",
       "</table>\n",
       "</div>"
      ],
      "text/plain": [
       "                      debt\n",
       "purpose_category          \n",
       "автомобиль        0.093395\n",
       "недвижимость      0.072140\n",
       "образование       0.091994\n",
       "свадьба           0.079216"
      ]
     },
     "execution_count": 631,
     "metadata": {},
     "output_type": "execute_result"
    }
   ],
   "source": [
    "purpose_pivot = purpose_data.pivot_table(values=\"debt\", index=[\"purpose_category\"],  aggfunc=\"mean\")\n",
    "purpose_pivot"
   ]
  },
  {
   "cell_type": "markdown",
   "metadata": {},
   "source": [
    "### Вывод"
   ]
  },
  {
   "cell_type": "markdown",
   "metadata": {},
   "source": [
    "Получили, что люди, которые берут кредит на ***автомобиль*** и ***образование***, чаще других имеют задолженности."
   ]
  },
  {
   "cell_type": "markdown",
   "metadata": {},
   "source": [
    "<a id='step4_conclusion'></a>\n",
    "### 4. Подведение итогов"
   ]
  },
  {
   "cell_type": "markdown",
   "metadata": {},
   "source": [
    "В процессе анализа данных были получены ответы на вопросы о том, как различные окружающие (или бытовые) факторы влияют на платежеспособность человека.   \n",
    "Однако, анализ проводился по каждому направлению в отдельности (наличие детей, семейное положения, уровень дохода, цель кредита), но некоторые люди могут попадать в одном направлении в категорию, которая имеет меньше задолженностей, а в другом, в категорию людей, которые чаще других просрочивают платежи. Поэтому было бы интересно провести комплексный анализ с учетом всех имеющихся данных. "
   ]
  }
 ],
 "metadata": {
  "kernelspec": {
   "display_name": "Яндекс.Практикум",
   "language": "python",
   "name": "yandex_praktikum"
  },
  "language_info": {
   "codemirror_mode": {
    "name": "ipython",
    "version": 3
   },
   "file_extension": ".py",
   "mimetype": "text/x-python",
   "name": "python",
   "nbconvert_exporter": "python",
   "pygments_lexer": "ipython3",
   "version": "3.8.6"
  }
 },
 "nbformat": 4,
 "nbformat_minor": 4
}
